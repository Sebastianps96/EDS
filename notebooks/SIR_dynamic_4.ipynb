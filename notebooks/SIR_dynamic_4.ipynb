{
 "cells": [
  {
   "cell_type": "markdown",
   "id": "0022fb4f",
   "metadata": {},
   "source": [
    "# SIR Dynamic\n",
    "# Data-Import"
   ]
  },
  {
   "cell_type": "code",
   "execution_count": 105,
   "id": "3a01c257",
   "metadata": {},
   "outputs": [],
   "source": [
    "import pandas as pd\n",
    "import numpy as np\n",
    "from datetime import datetime\n",
    "pd.set_option('display.max_rows',500)\n",
    "\n",
    "%matplotlib inline\n",
    "import matplotlib as mpl\n",
    "import matplotlib.pyplot as plt\n",
    "import seaborn as sns\n",
    "\n",
    "from scipy import optimize\n",
    "from scipy import integrate\n",
    "import plotly\n",
    "\n",
    "import plotly.express as px\n",
    "import plotly.graph_objects as go\n",
    "\n",
    "sns.set(style=\"darkgrid\")\n",
    "\n",
    "mpl.rcParams['figure.figsize'] = (16, 9)\n",
    "pd.set_option('display.max_rows', 500)"
   ]
  },
  {
   "cell_type": "code",
   "execution_count": 106,
   "id": "3bb9a1be",
   "metadata": {},
   "outputs": [],
   "source": [
    "data_path='../data/raw/COVID-19/csse_covid_19_data/csse_covid_19_time_series/time_series_covid19_confirmed_global.csv'\n",
    "pd_raw=pd.read_csv(data_path)\n",
    "\n",
    "time_idx=pd_raw.columns[4:]\n",
    "df_new=pd.DataFrame({'date':time_idx})\n",
    "\n",
    "country=['Germany','India','US']\n",
    "\n",
    "for each in country:\n",
    "    df_new[each]=np.array(pd_raw[pd_raw['Country/Region']==each].iloc[:,4:].sum(axis=0))\n",
    "\n",
    "df_new['date']=df_new.date.astype('datetime64[ns]')\n",
    "\n",
    "df_new.to_csv('../data/processed/small_flat_table.csv',sep=';',index=False)"
   ]
  },
  {
   "cell_type": "code",
   "execution_count": 107,
   "id": "210f0e6c",
   "metadata": {},
   "outputs": [
    {
     "data": {
      "text/html": [
       "<div>\n",
       "<style scoped>\n",
       "    .dataframe tbody tr th:only-of-type {\n",
       "        vertical-align: middle;\n",
       "    }\n",
       "\n",
       "    .dataframe tbody tr th {\n",
       "        vertical-align: top;\n",
       "    }\n",
       "\n",
       "    .dataframe thead th {\n",
       "        text-align: right;\n",
       "    }\n",
       "</style>\n",
       "<table border=\"1\" class=\"dataframe\">\n",
       "  <thead>\n",
       "    <tr style=\"text-align: right;\">\n",
       "      <th></th>\n",
       "      <th>date</th>\n",
       "      <th>Germany</th>\n",
       "      <th>India</th>\n",
       "      <th>US</th>\n",
       "    </tr>\n",
       "  </thead>\n",
       "  <tbody>\n",
       "    <tr>\n",
       "      <th>0</th>\n",
       "      <td>2020-01-22</td>\n",
       "      <td>0</td>\n",
       "      <td>0</td>\n",
       "      <td>1</td>\n",
       "    </tr>\n",
       "    <tr>\n",
       "      <th>1</th>\n",
       "      <td>2020-01-23</td>\n",
       "      <td>0</td>\n",
       "      <td>0</td>\n",
       "      <td>1</td>\n",
       "    </tr>\n",
       "    <tr>\n",
       "      <th>2</th>\n",
       "      <td>2020-01-24</td>\n",
       "      <td>0</td>\n",
       "      <td>0</td>\n",
       "      <td>2</td>\n",
       "    </tr>\n",
       "    <tr>\n",
       "      <th>3</th>\n",
       "      <td>2020-01-25</td>\n",
       "      <td>0</td>\n",
       "      <td>0</td>\n",
       "      <td>2</td>\n",
       "    </tr>\n",
       "    <tr>\n",
       "      <th>4</th>\n",
       "      <td>2020-01-26</td>\n",
       "      <td>0</td>\n",
       "      <td>0</td>\n",
       "      <td>5</td>\n",
       "    </tr>\n",
       "    <tr>\n",
       "      <th>...</th>\n",
       "      <td>...</td>\n",
       "      <td>...</td>\n",
       "      <td>...</td>\n",
       "      <td>...</td>\n",
       "    </tr>\n",
       "    <tr>\n",
       "      <th>881</th>\n",
       "      <td>2022-06-21</td>\n",
       "      <td>27454225</td>\n",
       "      <td>43331645</td>\n",
       "      <td>86452232</td>\n",
       "    </tr>\n",
       "    <tr>\n",
       "      <th>882</th>\n",
       "      <td>2022-06-22</td>\n",
       "      <td>27573585</td>\n",
       "      <td>43344958</td>\n",
       "      <td>86636306</td>\n",
       "    </tr>\n",
       "    <tr>\n",
       "      <th>883</th>\n",
       "      <td>2022-06-23</td>\n",
       "      <td>27681775</td>\n",
       "      <td>43362294</td>\n",
       "      <td>86757621</td>\n",
       "    </tr>\n",
       "    <tr>\n",
       "      <th>884</th>\n",
       "      <td>2022-06-24</td>\n",
       "      <td>27771111</td>\n",
       "      <td>43378234</td>\n",
       "      <td>86909716</td>\n",
       "    </tr>\n",
       "    <tr>\n",
       "      <th>885</th>\n",
       "      <td>2022-06-25</td>\n",
       "      <td>27771112</td>\n",
       "      <td>43389973</td>\n",
       "      <td>86949088</td>\n",
       "    </tr>\n",
       "  </tbody>\n",
       "</table>\n",
       "<p>886 rows × 4 columns</p>\n",
       "</div>"
      ],
      "text/plain": [
       "          date   Germany     India        US\n",
       "0   2020-01-22         0         0         1\n",
       "1   2020-01-23         0         0         1\n",
       "2   2020-01-24         0         0         2\n",
       "3   2020-01-25         0         0         2\n",
       "4   2020-01-26         0         0         5\n",
       "..         ...       ...       ...       ...\n",
       "881 2022-06-21  27454225  43331645  86452232\n",
       "882 2022-06-22  27573585  43344958  86636306\n",
       "883 2022-06-23  27681775  43362294  86757621\n",
       "884 2022-06-24  27771111  43378234  86909716\n",
       "885 2022-06-25  27771112  43389973  86949088\n",
       "\n",
       "[886 rows x 4 columns]"
      ]
     },
     "execution_count": 107,
     "metadata": {},
     "output_type": "execute_result"
    }
   ],
   "source": [
    "df_new"
   ]
  },
  {
   "cell_type": "markdown",
   "id": "c063aa91",
   "metadata": {},
   "source": [
    "# General Functions"
   ]
  },
  {
   "cell_type": "code",
   "execution_count": 108,
   "id": "ea3ce8cb",
   "metadata": {},
   "outputs": [],
   "source": [
    "def SIR_model(SIR,beta,gamma):\n",
    "    ''' Simple SIR model\n",
    "        S: susceptible population\n",
    "        I: infected people\n",
    "        R: recovered people\n",
    "        beta: \n",
    "        \n",
    "        overall condition is that the sum of changes (differnces) sum up to 0\n",
    "        dS+dI+dR=0\n",
    "        S+I+R= N (constant size of population)\n",
    "    \n",
    "    '''\n",
    "    \n",
    "    S,I,R=SIR\n",
    "    dS_dt=-beta*S*I/N0          #S*I is the \n",
    "    dI_dt=beta*S*I/N0-gamma*I\n",
    "    dR_dt=gamma*I\n",
    "    return([dS_dt,dI_dt,dR_dt])"
   ]
  },
  {
   "cell_type": "code",
   "execution_count": 109,
   "id": "8ed6f217",
   "metadata": {},
   "outputs": [],
   "source": [
    "def SIR_model_t(SIR,t,beta,gamma):\n",
    "    ''' Simple SIR model\n",
    "        S: susceptible population\n",
    "        t: time step, mandatory for integral.odeint\n",
    "        I: infected people\n",
    "        R: recovered people\n",
    "        beta: \n",
    "        \n",
    "        overall condition is that the sum of changes (differnces) sum up to 0\n",
    "        dS+dI+dR=0\n",
    "        S+I+R= N (constant size of population)\n",
    "    \n",
    "    '''\n",
    "    \n",
    "    S,I,R=SIR\n",
    "    dS_dt=-beta*S*I/N0          #S*I is the \n",
    "    dI_dt=beta*S*I/N0-gamma*I\n",
    "    dR_dt=gamma*I\n",
    "    return dS_dt,dI_dt,dR_dt"
   ]
  },
  {
   "cell_type": "code",
   "execution_count": 110,
   "id": "d33d14cd",
   "metadata": {},
   "outputs": [],
   "source": [
    "def fit_odeint(x, beta, gamma):\n",
    "    '''\n",
    "    helper function for the integration\n",
    "    '''\n",
    "    return integrate.odeint(SIR_model_t, (S0, I0, R0), t, args=(beta, gamma))[:,1] # we only would like to get dI"
   ]
  },
  {
   "cell_type": "markdown",
   "id": "d09baa7e",
   "metadata": {},
   "source": [
    "# Loop for all country"
   ]
  },
  {
   "cell_type": "code",
   "execution_count": 111,
   "id": "67860036",
   "metadata": {},
   "outputs": [
    {
     "name": "stderr",
     "output_type": "stream",
     "text": [
      "C:\\Users\\Mohit\\anaconda3\\envs\\t2\\lib\\site-packages\\scipy\\integrate\\odepack.py:247: ODEintWarning:\n",
      "\n",
      "Excess work done on this call (perhaps wrong Dfun type). Run with full_output = 1 to get quantitative information.\n",
      "\n"
     ]
    },
    {
     "name": "stdout",
     "output_type": "stream",
     "text": [
      "standard deviation errors :  [0.06447662 0.0641861 ]  start infect: 21\n",
      "Optimal parameters: beta = 2.895606710294739  and gamma =  2.704066134641813\n",
      "Germany:Optimal parameters: beta = 2.895606710294739  and gamma =  2.704066134641813\n",
      "GermanyBasic Reproduction Number R0  1.070834279235666\n"
     ]
    },
    {
     "name": "stderr",
     "output_type": "stream",
     "text": [
      "C:\\Users\\Mohit\\anaconda3\\envs\\t2\\lib\\site-packages\\scipy\\integrate\\odepack.py:247: ODEintWarning:\n",
      "\n",
      "Excess work done on this call (perhaps wrong Dfun type). Run with full_output = 1 to get quantitative information.\n",
      "\n"
     ]
    },
    {
     "name": "stdout",
     "output_type": "stream",
     "text": [
      "standard deviation errors :  [0.31555625 0.31506699]  start infect: 3\n",
      "Optimal parameters: beta = 25.242855071571434  and gamma =  25.072977103608693\n",
      "India:Optimal parameters: beta = 25.242855071571434  and gamma =  25.072977103608693\n",
      "IndiaBasic Reproduction Number R0  1.0067753409282334\n"
     ]
    },
    {
     "name": "stderr",
     "output_type": "stream",
     "text": [
      "C:\\Users\\Mohit\\anaconda3\\envs\\t2\\lib\\site-packages\\scipy\\integrate\\odepack.py:247: ODEintWarning:\n",
      "\n",
      "Excess work done on this call (perhaps wrong Dfun type). Run with full_output = 1 to get quantitative information.\n",
      "\n"
     ]
    },
    {
     "name": "stdout",
     "output_type": "stream",
     "text": [
      "standard deviation errors :  [0.05097488 0.05085589]  start infect: 16\n",
      "Optimal parameters: beta = 2.72039232025338  and gamma =  2.5024951499979142\n",
      "US:Optimal parameters: beta = 2.72039232025338  and gamma =  2.5024951499979142\n",
      "USBasic Reproduction Number R0  1.0870719650568144\n"
     ]
    },
    {
     "name": "stderr",
     "output_type": "stream",
     "text": [
      "C:\\Users\\Mohit\\AppData\\Local\\Temp\\ipykernel_15812\\649699423.py:16: RuntimeWarning:\n",
      "\n",
      "overflow encountered in double_scalars\n",
      "\n",
      "C:\\Users\\Mohit\\AppData\\Local\\Temp\\ipykernel_15812\\649699423.py:17: RuntimeWarning:\n",
      "\n",
      "overflow encountered in double_scalars\n",
      "\n",
      "C:\\Users\\Mohit\\AppData\\Local\\Temp\\ipykernel_15812\\649699423.py:18: RuntimeWarning:\n",
      "\n",
      "overflow encountered in double_scalars\n",
      "\n",
      "C:\\Users\\Mohit\\anaconda3\\envs\\t2\\lib\\site-packages\\scipy\\integrate\\odepack.py:247: ODEintWarning:\n",
      "\n",
      "Illegal input detected (internal error). Run with full_output = 1 to get quantitative information.\n",
      "\n"
     ]
    }
   ],
   "source": [
    "ydata = np.array(df_new['Germany'][35:100])\n",
    "t=np.arange(len(ydata))\n",
    "x=np.linspace(1,len(ydata),len(ydata))\n",
    "df_plot=pd.DataFrame({'day':np.array(x)})\n",
    "\n",
    "for each in country: \n",
    "    \n",
    "    if each=='Germany':\n",
    "        N0=80000000 #max susceptible population\n",
    "    elif each=='India':\n",
    "        N0=1380000000\n",
    "    else:\n",
    "        N0=329000000\n",
    "        \n",
    "    beta=0.4   # infection spread dynamics\n",
    "    gamma=0.1\n",
    "    \n",
    "    I0=df_new[each][35]\n",
    "    S0=N0-I0\n",
    "    R0=0\n",
    "    \n",
    "    ydata = np.array(df_new[each][35:100])\n",
    "    t=np.arange(len(ydata))\n",
    "    \n",
    "    # example curve of our differential equationa\n",
    "    popt=[beta,gamma]\n",
    "    fit_odeint(t, *popt);\n",
    "    \n",
    "    popt, pcov = optimize.curve_fit(fit_odeint, t, ydata)\n",
    "    perr = np.sqrt(np.diag(pcov))\n",
    "    \n",
    "    print('standard deviation errors : ',str(perr), ' start infect:',ydata[0])\n",
    "    print(\"Optimal parameters: beta =\", popt[0], \" and gamma = \", popt[1])\n",
    "    \n",
    "    # get the final fitted curve\n",
    "    fitted=fit_odeint(t, *popt)\n",
    "    len(fitted)\n",
    "    x=np.linspace(1,len(fitted),len(fitted))\n",
    "    #df_plot=pd.DataFrame({'day':np.array(x)})\n",
    "    new={each+'_fit':np.array(fitted),\n",
    "         each+'_case':np.array(df_new[each][35:100])\n",
    "        }\n",
    "    pd_new=pd.DataFrame(new)\n",
    "    df_plot=pd.concat([df_plot,pd_new],axis=1)\n",
    "    print(each+\":Optimal parameters: beta =\", popt[0], \" and gamma = \", popt[1])\n",
    "    print(each+\"Basic Reproduction Number R0 \" , popt[0]/ popt[1])"
   ]
  },
  {
   "cell_type": "code",
   "execution_count": 112,
   "id": "0fd04bb5",
   "metadata": {},
   "outputs": [
    {
     "data": {
      "text/html": [
       "<div>\n",
       "<style scoped>\n",
       "    .dataframe tbody tr th:only-of-type {\n",
       "        vertical-align: middle;\n",
       "    }\n",
       "\n",
       "    .dataframe tbody tr th {\n",
       "        vertical-align: top;\n",
       "    }\n",
       "\n",
       "    .dataframe thead th {\n",
       "        text-align: right;\n",
       "    }\n",
       "</style>\n",
       "<table border=\"1\" class=\"dataframe\">\n",
       "  <thead>\n",
       "    <tr style=\"text-align: right;\">\n",
       "      <th></th>\n",
       "      <th>day</th>\n",
       "      <th>Germany_fit</th>\n",
       "      <th>Germany_case</th>\n",
       "      <th>India_fit</th>\n",
       "      <th>India_case</th>\n",
       "      <th>US_fit</th>\n",
       "      <th>US_case</th>\n",
       "    </tr>\n",
       "  </thead>\n",
       "  <tbody>\n",
       "    <tr>\n",
       "      <th>0</th>\n",
       "      <td>1.0</td>\n",
       "      <td>21.000000</td>\n",
       "      <td>21</td>\n",
       "      <td>3.000000</td>\n",
       "      <td>3</td>\n",
       "      <td>1.600000e+01</td>\n",
       "      <td>16</td>\n",
       "    </tr>\n",
       "    <tr>\n",
       "      <th>1</th>\n",
       "      <td>2.0</td>\n",
       "      <td>25.433344</td>\n",
       "      <td>26</td>\n",
       "      <td>3.555478</td>\n",
       "      <td>3</td>\n",
       "      <td>1.989534e+01</td>\n",
       "      <td>17</td>\n",
       "    </tr>\n",
       "    <tr>\n",
       "      <th>2</th>\n",
       "      <td>3.0</td>\n",
       "      <td>30.802537</td>\n",
       "      <td>53</td>\n",
       "      <td>4.213801</td>\n",
       "      <td>3</td>\n",
       "      <td>2.473903e+01</td>\n",
       "      <td>17</td>\n",
       "    </tr>\n",
       "    <tr>\n",
       "      <th>3</th>\n",
       "      <td>4.0</td>\n",
       "      <td>37.305090</td>\n",
       "      <td>66</td>\n",
       "      <td>4.994007</td>\n",
       "      <td>3</td>\n",
       "      <td>3.076193e+01</td>\n",
       "      <td>25</td>\n",
       "    </tr>\n",
       "    <tr>\n",
       "      <th>4</th>\n",
       "      <td>5.0</td>\n",
       "      <td>45.180184</td>\n",
       "      <td>117</td>\n",
       "      <td>5.918659</td>\n",
       "      <td>3</td>\n",
       "      <td>3.825112e+01</td>\n",
       "      <td>32</td>\n",
       "    </tr>\n",
       "    <tr>\n",
       "      <th>5</th>\n",
       "      <td>6.0</td>\n",
       "      <td>54.717449</td>\n",
       "      <td>150</td>\n",
       "      <td>7.014493</td>\n",
       "      <td>5</td>\n",
       "      <td>4.756357e+01</td>\n",
       "      <td>55</td>\n",
       "    </tr>\n",
       "    <tr>\n",
       "      <th>6</th>\n",
       "      <td>7.0</td>\n",
       "      <td>66.267591</td>\n",
       "      <td>188</td>\n",
       "      <td>8.313192</td>\n",
       "      <td>5</td>\n",
       "      <td>5.914313e+01</td>\n",
       "      <td>74</td>\n",
       "    </tr>\n",
       "    <tr>\n",
       "      <th>7</th>\n",
       "      <td>8.0</td>\n",
       "      <td>80.255260</td>\n",
       "      <td>240</td>\n",
       "      <td>9.852302</td>\n",
       "      <td>28</td>\n",
       "      <td>7.354168e+01</td>\n",
       "      <td>107</td>\n",
       "    </tr>\n",
       "    <tr>\n",
       "      <th>8</th>\n",
       "      <td>9.0</td>\n",
       "      <td>97.194605</td>\n",
       "      <td>349</td>\n",
       "      <td>11.676310</td>\n",
       "      <td>30</td>\n",
       "      <td>9.144544e+01</td>\n",
       "      <td>184</td>\n",
       "    </tr>\n",
       "    <tr>\n",
       "      <th>9</th>\n",
       "      <td>10.0</td>\n",
       "      <td>117.708107</td>\n",
       "      <td>534</td>\n",
       "      <td>13.837931</td>\n",
       "      <td>31</td>\n",
       "      <td>1.137076e+02</td>\n",
       "      <td>237</td>\n",
       "    </tr>\n",
       "    <tr>\n",
       "      <th>10</th>\n",
       "      <td>11.0</td>\n",
       "      <td>142.549342</td>\n",
       "      <td>684</td>\n",
       "      <td>16.399626</td>\n",
       "      <td>34</td>\n",
       "      <td>1.413892e+02</td>\n",
       "      <td>403</td>\n",
       "    </tr>\n",
       "    <tr>\n",
       "      <th>11</th>\n",
       "      <td>12.0</td>\n",
       "      <td>172.630509</td>\n",
       "      <td>847</td>\n",
       "      <td>19.435398</td>\n",
       "      <td>39</td>\n",
       "      <td>1.758091e+02</td>\n",
       "      <td>519</td>\n",
       "    </tr>\n",
       "    <tr>\n",
       "      <th>12</th>\n",
       "      <td>13.0</td>\n",
       "      <td>209.055696</td>\n",
       "      <td>1112</td>\n",
       "      <td>23.032920</td>\n",
       "      <td>43</td>\n",
       "      <td>2.186073e+02</td>\n",
       "      <td>594</td>\n",
       "    </tr>\n",
       "    <tr>\n",
       "      <th>13</th>\n",
       "      <td>14.0</td>\n",
       "      <td>253.161066</td>\n",
       "      <td>1296</td>\n",
       "      <td>27.296059</td>\n",
       "      <td>56</td>\n",
       "      <td>2.718228e+02</td>\n",
       "      <td>782</td>\n",
       "    </tr>\n",
       "    <tr>\n",
       "      <th>14</th>\n",
       "      <td>15.0</td>\n",
       "      <td>306.563374</td>\n",
       "      <td>1567</td>\n",
       "      <td>32.347849</td>\n",
       "      <td>62</td>\n",
       "      <td>3.379905e+02</td>\n",
       "      <td>1147</td>\n",
       "    </tr>\n",
       "    <tr>\n",
       "      <th>15</th>\n",
       "      <td>16.0</td>\n",
       "      <td>371.218509</td>\n",
       "      <td>2369</td>\n",
       "      <td>38.334020</td>\n",
       "      <td>73</td>\n",
       "      <td>4.202617e+02</td>\n",
       "      <td>1586</td>\n",
       "    </tr>\n",
       "    <tr>\n",
       "      <th>16</th>\n",
       "      <td>17.0</td>\n",
       "      <td>449.492067</td>\n",
       "      <td>3062</td>\n",
       "      <td>45.427162</td>\n",
       "      <td>82</td>\n",
       "      <td>5.225537e+02</td>\n",
       "      <td>2219</td>\n",
       "    </tr>\n",
       "    <tr>\n",
       "      <th>17</th>\n",
       "      <td>18.0</td>\n",
       "      <td>544.244339</td>\n",
       "      <td>3795</td>\n",
       "      <td>53.831654</td>\n",
       "      <td>102</td>\n",
       "      <td>6.497360e+02</td>\n",
       "      <td>2978</td>\n",
       "    </tr>\n",
       "    <tr>\n",
       "      <th>18</th>\n",
       "      <td>19.0</td>\n",
       "      <td>658.932552</td>\n",
       "      <td>4838</td>\n",
       "      <td>63.789474</td>\n",
       "      <td>113</td>\n",
       "      <td>8.078609e+02</td>\n",
       "      <td>3212</td>\n",
       "    </tr>\n",
       "    <tr>\n",
       "      <th>19</th>\n",
       "      <td>20.0</td>\n",
       "      <td>797.733675</td>\n",
       "      <td>6012</td>\n",
       "      <td>75.587068</td>\n",
       "      <td>119</td>\n",
       "      <td>1.004450e+03</td>\n",
       "      <td>4679</td>\n",
       "    </tr>\n",
       "    <tr>\n",
       "      <th>20</th>\n",
       "      <td>21.0</td>\n",
       "      <td>965.691643</td>\n",
       "      <td>7156</td>\n",
       "      <td>89.563443</td>\n",
       "      <td>142</td>\n",
       "      <td>1.248850e+03</td>\n",
       "      <td>6512</td>\n",
       "    </tr>\n",
       "    <tr>\n",
       "      <th>21</th>\n",
       "      <td>22.0</td>\n",
       "      <td>1168.893487</td>\n",
       "      <td>8198</td>\n",
       "      <td>106.119710</td>\n",
       "      <td>156</td>\n",
       "      <td>1.552672e+03</td>\n",
       "      <td>9169</td>\n",
       "    </tr>\n",
       "    <tr>\n",
       "      <th>22</th>\n",
       "      <td>23.0</td>\n",
       "      <td>1414.679466</td>\n",
       "      <td>10999</td>\n",
       "      <td>125.730314</td>\n",
       "      <td>194</td>\n",
       "      <td>1.930342e+03</td>\n",
       "      <td>13663</td>\n",
       "    </tr>\n",
       "    <tr>\n",
       "      <th>23</th>\n",
       "      <td>24.0</td>\n",
       "      <td>1711.892904</td>\n",
       "      <td>13957</td>\n",
       "      <td>148.956231</td>\n",
       "      <td>244</td>\n",
       "      <td>2.399770e+03</td>\n",
       "      <td>20030</td>\n",
       "    </tr>\n",
       "    <tr>\n",
       "      <th>24</th>\n",
       "      <td>25.0</td>\n",
       "      <td>2071.175993</td>\n",
       "      <td>16662</td>\n",
       "      <td>176.460460</td>\n",
       "      <td>330</td>\n",
       "      <td>2.983195e+03</td>\n",
       "      <td>26025</td>\n",
       "    </tr>\n",
       "    <tr>\n",
       "      <th>25</th>\n",
       "      <td>26.0</td>\n",
       "      <td>2505.318212</td>\n",
       "      <td>18610</td>\n",
       "      <td>209.026172</td>\n",
       "      <td>396</td>\n",
       "      <td>3.708210e+03</td>\n",
       "      <td>34944</td>\n",
       "    </tr>\n",
       "    <tr>\n",
       "      <th>26</th>\n",
       "      <td>27.0</td>\n",
       "      <td>3029.663993</td>\n",
       "      <td>22672</td>\n",
       "      <td>247.577922</td>\n",
       "      <td>499</td>\n",
       "      <td>4.609042e+03</td>\n",
       "      <td>46096</td>\n",
       "    </tr>\n",
       "    <tr>\n",
       "      <th>27</th>\n",
       "      <td>28.0</td>\n",
       "      <td>3662.585760</td>\n",
       "      <td>27436</td>\n",
       "      <td>293.206366</td>\n",
       "      <td>536</td>\n",
       "      <td>5.728115e+03</td>\n",
       "      <td>56714</td>\n",
       "    </tr>\n",
       "    <tr>\n",
       "      <th>28</th>\n",
       "      <td>29.0</td>\n",
       "      <td>4426.026933</td>\n",
       "      <td>31554</td>\n",
       "      <td>347.196984</td>\n",
       "      <td>657</td>\n",
       "      <td>7.117979e+03</td>\n",
       "      <td>68841</td>\n",
       "    </tr>\n",
       "    <tr>\n",
       "      <th>29</th>\n",
       "      <td>30.0</td>\n",
       "      <td>5346.116518</td>\n",
       "      <td>36508</td>\n",
       "      <td>411.063301</td>\n",
       "      <td>727</td>\n",
       "      <td>8.843657e+03</td>\n",
       "      <td>86662</td>\n",
       "    </tr>\n",
       "    <tr>\n",
       "      <th>30</th>\n",
       "      <td>31.0</td>\n",
       "      <td>6453.851781</td>\n",
       "      <td>42288</td>\n",
       "      <td>486.585143</td>\n",
       "      <td>887</td>\n",
       "      <td>1.098551e+04</td>\n",
       "      <td>105253</td>\n",
       "    </tr>\n",
       "    <tr>\n",
       "      <th>31</th>\n",
       "      <td>32.0</td>\n",
       "      <td>7785.837048</td>\n",
       "      <td>48582</td>\n",
       "      <td>575.852404</td>\n",
       "      <td>987</td>\n",
       "      <td>1.364272e+04</td>\n",
       "      <td>127417</td>\n",
       "    </tr>\n",
       "    <tr>\n",
       "      <th>32</th>\n",
       "      <td>33.0</td>\n",
       "      <td>9385.053770</td>\n",
       "      <td>52547</td>\n",
       "      <td>681.314739</td>\n",
       "      <td>1024</td>\n",
       "      <td>1.693746e+04</td>\n",
       "      <td>143544</td>\n",
       "    </tr>\n",
       "    <tr>\n",
       "      <th>33</th>\n",
       "      <td>34.0</td>\n",
       "      <td>11301.617722</td>\n",
       "      <td>57298</td>\n",
       "      <td>805.837458</td>\n",
       "      <td>1251</td>\n",
       "      <td>2.101983e+04</td>\n",
       "      <td>165698</td>\n",
       "    </tr>\n",
       "    <tr>\n",
       "      <th>34</th>\n",
       "      <td>35.0</td>\n",
       "      <td>13593.451767</td>\n",
       "      <td>61913</td>\n",
       "      <td>952.763613</td>\n",
       "      <td>1397</td>\n",
       "      <td>2.607380e+04</td>\n",
       "      <td>192079</td>\n",
       "    </tr>\n",
       "    <tr>\n",
       "      <th>35</th>\n",
       "      <td>36.0</td>\n",
       "      <td>16326.764075</td>\n",
       "      <td>67366</td>\n",
       "      <td>1125.981867</td>\n",
       "      <td>1998</td>\n",
       "      <td>3.232392e+04</td>\n",
       "      <td>223254</td>\n",
       "    </tr>\n",
       "    <tr>\n",
       "      <th>36</th>\n",
       "      <td>37.0</td>\n",
       "      <td>19576.171059</td>\n",
       "      <td>73522</td>\n",
       "      <td>1329.999107</td>\n",
       "      <td>2543</td>\n",
       "      <td>4.004304e+04</td>\n",
       "      <td>255530</td>\n",
       "    </tr>\n",
       "    <tr>\n",
       "      <th>37</th>\n",
       "      <td>38.0</td>\n",
       "      <td>23424.238908</td>\n",
       "      <td>79696</td>\n",
       "      <td>1570.015840</td>\n",
       "      <td>2567</td>\n",
       "      <td>4.956078e+04</td>\n",
       "      <td>287931</td>\n",
       "    </tr>\n",
       "    <tr>\n",
       "      <th>38</th>\n",
       "      <td>39.0</td>\n",
       "      <td>27960.140098</td>\n",
       "      <td>85778</td>\n",
       "      <td>1852.001077</td>\n",
       "      <td>3082</td>\n",
       "      <td>6.127229e+04</td>\n",
       "      <td>319776</td>\n",
       "    </tr>\n",
       "    <tr>\n",
       "      <th>39</th>\n",
       "      <td>40.0</td>\n",
       "      <td>33277.036152</td>\n",
       "      <td>91714</td>\n",
       "      <td>2182.761640</td>\n",
       "      <td>3588</td>\n",
       "      <td>7.564686e+04</td>\n",
       "      <td>349016</td>\n",
       "    </tr>\n",
       "    <tr>\n",
       "      <th>40</th>\n",
       "      <td>41.0</td>\n",
       "      <td>39467.719642</td>\n",
       "      <td>95391</td>\n",
       "      <td>2569.998332</td>\n",
       "      <td>4778</td>\n",
       "      <td>9.323483e+04</td>\n",
       "      <td>380798</td>\n",
       "    </tr>\n",
       "    <tr>\n",
       "      <th>41</th>\n",
       "      <td>42.0</td>\n",
       "      <td>46618.002316</td>\n",
       "      <td>99225</td>\n",
       "      <td>3022.338229</td>\n",
       "      <td>5311</td>\n",
       "      <td>1.146713e+05</td>\n",
       "      <td>410834</td>\n",
       "    </tr>\n",
       "    <tr>\n",
       "      <th>42</th>\n",
       "      <td>43.0</td>\n",
       "      <td>54797.364909</td>\n",
       "      <td>103228</td>\n",
       "      <td>3549.328295</td>\n",
       "      <td>5916</td>\n",
       "      <td>1.406737e+05</td>\n",
       "      <td>441897</td>\n",
       "    </tr>\n",
       "    <tr>\n",
       "      <th>43</th>\n",
       "      <td>44.0</td>\n",
       "      <td>64046.546646</td>\n",
       "      <td>108202</td>\n",
       "      <td>4161.370540</td>\n",
       "      <td>6725</td>\n",
       "      <td>1.720282e+05</td>\n",
       "      <td>477507</td>\n",
       "    </tr>\n",
       "    <tr>\n",
       "      <th>44</th>\n",
       "      <td>45.0</td>\n",
       "      <td>74362.124846</td>\n",
       "      <td>113525</td>\n",
       "      <td>4869.573263</td>\n",
       "      <td>7598</td>\n",
       "      <td>2.095620e+05</td>\n",
       "      <td>511790</td>\n",
       "    </tr>\n",
       "    <tr>\n",
       "      <th>45</th>\n",
       "      <td>46.0</td>\n",
       "      <td>85678.785792</td>\n",
       "      <td>117658</td>\n",
       "      <td>5685.486808</td>\n",
       "      <td>8446</td>\n",
       "      <td>2.540914e+05</td>\n",
       "      <td>540714</td>\n",
       "    </tr>\n",
       "    <tr>\n",
       "      <th>46</th>\n",
       "      <td>47.0</td>\n",
       "      <td>97850.946618</td>\n",
       "      <td>120479</td>\n",
       "      <td>6620.686667</td>\n",
       "      <td>9205</td>\n",
       "      <td>3.063406e+05</td>\n",
       "      <td>567022</td>\n",
       "    </tr>\n",
       "    <tr>\n",
       "      <th>47</th>\n",
       "      <td>48.0</td>\n",
       "      <td>110636.583944</td>\n",
       "      <td>123016</td>\n",
       "      <td>7686.163000</td>\n",
       "      <td>10453</td>\n",
       "      <td>3.668239e+05</td>\n",
       "      <td>594165</td>\n",
       "    </tr>\n",
       "    <tr>\n",
       "      <th>48</th>\n",
       "      <td>49.0</td>\n",
       "      <td>123687.326402</td>\n",
       "      <td>125098</td>\n",
       "      <td>8891.476102</td>\n",
       "      <td>11487</td>\n",
       "      <td>4.356881e+05</td>\n",
       "      <td>622493</td>\n",
       "    </tr>\n",
       "    <tr>\n",
       "      <th>49</th>\n",
       "      <td>50.0</td>\n",
       "      <td>136549.622721</td>\n",
       "      <td>127584</td>\n",
       "      <td>10243.645149</td>\n",
       "      <td>12322</td>\n",
       "      <td>5.125197e+05</td>\n",
       "      <td>648390</td>\n",
       "    </tr>\n",
       "    <tr>\n",
       "      <th>50</th>\n",
       "      <td>51.0</td>\n",
       "      <td>148681.519097</td>\n",
       "      <td>130450</td>\n",
       "      <td>11745.756906</td>\n",
       "      <td>13430</td>\n",
       "      <td>5.961369e+05</td>\n",
       "      <td>678028</td>\n",
       "    </tr>\n",
       "    <tr>\n",
       "      <th>51</th>\n",
       "      <td>52.0</td>\n",
       "      <td>159487.709444</td>\n",
       "      <td>133830</td>\n",
       "      <td>13395.316340</td>\n",
       "      <td>14352</td>\n",
       "      <td>6.844021e+05</td>\n",
       "      <td>711135</td>\n",
       "    </tr>\n",
       "    <tr>\n",
       "      <th>52</th>\n",
       "      <td>53.0</td>\n",
       "      <td>168371.880393</td>\n",
       "      <td>137439</td>\n",
       "      <td>15182.415965</td>\n",
       "      <td>15722</td>\n",
       "      <td>7.741130e+05</td>\n",
       "      <td>738464</td>\n",
       "    </tr>\n",
       "    <tr>\n",
       "      <th>53</th>\n",
       "      <td>54.0</td>\n",
       "      <td>174800.558737</td>\n",
       "      <td>139897</td>\n",
       "      <td>17087.875807</td>\n",
       "      <td>17615</td>\n",
       "      <td>8.610419e+05</td>\n",
       "      <td>763886</td>\n",
       "    </tr>\n",
       "    <tr>\n",
       "      <th>54</th>\n",
       "      <td>55.0</td>\n",
       "      <td>178368.088232</td>\n",
       "      <td>141672</td>\n",
       "      <td>19081.595717</td>\n",
       "      <td>18539</td>\n",
       "      <td>9.401832e+05</td>\n",
       "      <td>793970</td>\n",
       "    </tr>\n",
       "    <tr>\n",
       "      <th>55</th>\n",
       "      <td>56.0</td>\n",
       "      <td>178849.920086</td>\n",
       "      <td>143457</td>\n",
       "      <td>21121.451654</td>\n",
       "      <td>20080</td>\n",
       "      <td>1.006235e+06</td>\n",
       "      <td>820045</td>\n",
       "    </tr>\n",
       "    <tr>\n",
       "      <th>56</th>\n",
       "      <td>57.0</td>\n",
       "      <td>176232.520193</td>\n",
       "      <td>145694</td>\n",
       "      <td>23153.131589</td>\n",
       "      <td>21370</td>\n",
       "      <td>1.054267e+06</td>\n",
       "      <td>849926</td>\n",
       "    </tr>\n",
       "    <tr>\n",
       "      <th>57</th>\n",
       "      <td>58.0</td>\n",
       "      <td>170713.177636</td>\n",
       "      <td>148046</td>\n",
       "      <td>25111.308951</td>\n",
       "      <td>23077</td>\n",
       "      <td>1.080464e+06</td>\n",
       "      <td>881891</td>\n",
       "    </tr>\n",
       "    <tr>\n",
       "      <th>58</th>\n",
       "      <td>59.0</td>\n",
       "      <td>162670.140392</td>\n",
       "      <td>150383</td>\n",
       "      <td>26922.455554</td>\n",
       "      <td>24530</td>\n",
       "      <td>1.082746e+06</td>\n",
       "      <td>913856</td>\n",
       "    </tr>\n",
       "    <tr>\n",
       "      <th>59</th>\n",
       "      <td>60.0</td>\n",
       "      <td>152610.467547</td>\n",
       "      <td>152438</td>\n",
       "      <td>28509.375034</td>\n",
       "      <td>26283</td>\n",
       "      <td>1.061124e+06</td>\n",
       "      <td>944770</td>\n",
       "    </tr>\n",
       "    <tr>\n",
       "      <th>60</th>\n",
       "      <td>61.0</td>\n",
       "      <td>141107.237149</td>\n",
       "      <td>154175</td>\n",
       "      <td>29797.215966</td>\n",
       "      <td>27890</td>\n",
       "      <td>1.017662e+06</td>\n",
       "      <td>970741</td>\n",
       "    </tr>\n",
       "    <tr>\n",
       "      <th>61</th>\n",
       "      <td>62.0</td>\n",
       "      <td>128738.297173</td>\n",
       "      <td>155193</td>\n",
       "      <td>30720.329148</td>\n",
       "      <td>29451</td>\n",
       "      <td>9.560914e+05</td>\n",
       "      <td>995391</td>\n",
       "    </tr>\n",
       "    <tr>\n",
       "      <th>62</th>\n",
       "      <td>63.0</td>\n",
       "      <td>116036.050979</td>\n",
       "      <td>156337</td>\n",
       "      <td>31229.015588</td>\n",
       "      <td>31324</td>\n",
       "      <td>8.811703e+05</td>\n",
       "      <td>1019964</td>\n",
       "    </tr>\n",
       "    <tr>\n",
       "      <th>63</th>\n",
       "      <td>64.0</td>\n",
       "      <td>103453.384616</td>\n",
       "      <td>157641</td>\n",
       "      <td>31295.042777</td>\n",
       "      <td>33062</td>\n",
       "      <td>7.979822e+05</td>\n",
       "      <td>1046816</td>\n",
       "    </tr>\n",
       "    <tr>\n",
       "      <th>64</th>\n",
       "      <td>65.0</td>\n",
       "      <td>91346.480131</td>\n",
       "      <td>159119</td>\n",
       "      <td>30914.916768</td>\n",
       "      <td>34863</td>\n",
       "      <td>7.113188e+05</td>\n",
       "      <td>1076518</td>\n",
       "    </tr>\n",
       "  </tbody>\n",
       "</table>\n",
       "</div>"
      ],
      "text/plain": [
       "     day    Germany_fit  Germany_case     India_fit  India_case        US_fit  \\\n",
       "0    1.0      21.000000            21      3.000000           3  1.600000e+01   \n",
       "1    2.0      25.433344            26      3.555478           3  1.989534e+01   \n",
       "2    3.0      30.802537            53      4.213801           3  2.473903e+01   \n",
       "3    4.0      37.305090            66      4.994007           3  3.076193e+01   \n",
       "4    5.0      45.180184           117      5.918659           3  3.825112e+01   \n",
       "5    6.0      54.717449           150      7.014493           5  4.756357e+01   \n",
       "6    7.0      66.267591           188      8.313192           5  5.914313e+01   \n",
       "7    8.0      80.255260           240      9.852302          28  7.354168e+01   \n",
       "8    9.0      97.194605           349     11.676310          30  9.144544e+01   \n",
       "9   10.0     117.708107           534     13.837931          31  1.137076e+02   \n",
       "10  11.0     142.549342           684     16.399626          34  1.413892e+02   \n",
       "11  12.0     172.630509           847     19.435398          39  1.758091e+02   \n",
       "12  13.0     209.055696          1112     23.032920          43  2.186073e+02   \n",
       "13  14.0     253.161066          1296     27.296059          56  2.718228e+02   \n",
       "14  15.0     306.563374          1567     32.347849          62  3.379905e+02   \n",
       "15  16.0     371.218509          2369     38.334020          73  4.202617e+02   \n",
       "16  17.0     449.492067          3062     45.427162          82  5.225537e+02   \n",
       "17  18.0     544.244339          3795     53.831654         102  6.497360e+02   \n",
       "18  19.0     658.932552          4838     63.789474         113  8.078609e+02   \n",
       "19  20.0     797.733675          6012     75.587068         119  1.004450e+03   \n",
       "20  21.0     965.691643          7156     89.563443         142  1.248850e+03   \n",
       "21  22.0    1168.893487          8198    106.119710         156  1.552672e+03   \n",
       "22  23.0    1414.679466         10999    125.730314         194  1.930342e+03   \n",
       "23  24.0    1711.892904         13957    148.956231         244  2.399770e+03   \n",
       "24  25.0    2071.175993         16662    176.460460         330  2.983195e+03   \n",
       "25  26.0    2505.318212         18610    209.026172         396  3.708210e+03   \n",
       "26  27.0    3029.663993         22672    247.577922         499  4.609042e+03   \n",
       "27  28.0    3662.585760         27436    293.206366         536  5.728115e+03   \n",
       "28  29.0    4426.026933         31554    347.196984         657  7.117979e+03   \n",
       "29  30.0    5346.116518         36508    411.063301         727  8.843657e+03   \n",
       "30  31.0    6453.851781         42288    486.585143         887  1.098551e+04   \n",
       "31  32.0    7785.837048         48582    575.852404         987  1.364272e+04   \n",
       "32  33.0    9385.053770         52547    681.314739        1024  1.693746e+04   \n",
       "33  34.0   11301.617722         57298    805.837458        1251  2.101983e+04   \n",
       "34  35.0   13593.451767         61913    952.763613        1397  2.607380e+04   \n",
       "35  36.0   16326.764075         67366   1125.981867        1998  3.232392e+04   \n",
       "36  37.0   19576.171059         73522   1329.999107        2543  4.004304e+04   \n",
       "37  38.0   23424.238908         79696   1570.015840        2567  4.956078e+04   \n",
       "38  39.0   27960.140098         85778   1852.001077        3082  6.127229e+04   \n",
       "39  40.0   33277.036152         91714   2182.761640        3588  7.564686e+04   \n",
       "40  41.0   39467.719642         95391   2569.998332        4778  9.323483e+04   \n",
       "41  42.0   46618.002316         99225   3022.338229        5311  1.146713e+05   \n",
       "42  43.0   54797.364909        103228   3549.328295        5916  1.406737e+05   \n",
       "43  44.0   64046.546646        108202   4161.370540        6725  1.720282e+05   \n",
       "44  45.0   74362.124846        113525   4869.573263        7598  2.095620e+05   \n",
       "45  46.0   85678.785792        117658   5685.486808        8446  2.540914e+05   \n",
       "46  47.0   97850.946618        120479   6620.686667        9205  3.063406e+05   \n",
       "47  48.0  110636.583944        123016   7686.163000       10453  3.668239e+05   \n",
       "48  49.0  123687.326402        125098   8891.476102       11487  4.356881e+05   \n",
       "49  50.0  136549.622721        127584  10243.645149       12322  5.125197e+05   \n",
       "50  51.0  148681.519097        130450  11745.756906       13430  5.961369e+05   \n",
       "51  52.0  159487.709444        133830  13395.316340       14352  6.844021e+05   \n",
       "52  53.0  168371.880393        137439  15182.415965       15722  7.741130e+05   \n",
       "53  54.0  174800.558737        139897  17087.875807       17615  8.610419e+05   \n",
       "54  55.0  178368.088232        141672  19081.595717       18539  9.401832e+05   \n",
       "55  56.0  178849.920086        143457  21121.451654       20080  1.006235e+06   \n",
       "56  57.0  176232.520193        145694  23153.131589       21370  1.054267e+06   \n",
       "57  58.0  170713.177636        148046  25111.308951       23077  1.080464e+06   \n",
       "58  59.0  162670.140392        150383  26922.455554       24530  1.082746e+06   \n",
       "59  60.0  152610.467547        152438  28509.375034       26283  1.061124e+06   \n",
       "60  61.0  141107.237149        154175  29797.215966       27890  1.017662e+06   \n",
       "61  62.0  128738.297173        155193  30720.329148       29451  9.560914e+05   \n",
       "62  63.0  116036.050979        156337  31229.015588       31324  8.811703e+05   \n",
       "63  64.0  103453.384616        157641  31295.042777       33062  7.979822e+05   \n",
       "64  65.0   91346.480131        159119  30914.916768       34863  7.113188e+05   \n",
       "\n",
       "    US_case  \n",
       "0        16  \n",
       "1        17  \n",
       "2        17  \n",
       "3        25  \n",
       "4        32  \n",
       "5        55  \n",
       "6        74  \n",
       "7       107  \n",
       "8       184  \n",
       "9       237  \n",
       "10      403  \n",
       "11      519  \n",
       "12      594  \n",
       "13      782  \n",
       "14     1147  \n",
       "15     1586  \n",
       "16     2219  \n",
       "17     2978  \n",
       "18     3212  \n",
       "19     4679  \n",
       "20     6512  \n",
       "21     9169  \n",
       "22    13663  \n",
       "23    20030  \n",
       "24    26025  \n",
       "25    34944  \n",
       "26    46096  \n",
       "27    56714  \n",
       "28    68841  \n",
       "29    86662  \n",
       "30   105253  \n",
       "31   127417  \n",
       "32   143544  \n",
       "33   165698  \n",
       "34   192079  \n",
       "35   223254  \n",
       "36   255530  \n",
       "37   287931  \n",
       "38   319776  \n",
       "39   349016  \n",
       "40   380798  \n",
       "41   410834  \n",
       "42   441897  \n",
       "43   477507  \n",
       "44   511790  \n",
       "45   540714  \n",
       "46   567022  \n",
       "47   594165  \n",
       "48   622493  \n",
       "49   648390  \n",
       "50   678028  \n",
       "51   711135  \n",
       "52   738464  \n",
       "53   763886  \n",
       "54   793970  \n",
       "55   820045  \n",
       "56   849926  \n",
       "57   881891  \n",
       "58   913856  \n",
       "59   944770  \n",
       "60   970741  \n",
       "61   995391  \n",
       "62  1019964  \n",
       "63  1046816  \n",
       "64  1076518  "
      ]
     },
     "execution_count": 112,
     "metadata": {},
     "output_type": "execute_result"
    }
   ],
   "source": [
    "df_plot"
   ]
  },
  {
   "cell_type": "markdown",
   "id": "0198358b",
   "metadata": {},
   "source": [
    "# Visualization"
   ]
  },
  {
   "cell_type": "code",
   "execution_count": 113,
   "id": "9822d125",
   "metadata": {
    "scrolled": false
   },
   "outputs": [
    {
     "data": {
      "application/vnd.plotly.v1+json": {
       "config": {
        "plotlyServerURL": "https://plot.ly"
       },
       "data": [
        {
         "marker": {
          "size": 8
         },
         "mode": "markers",
         "name": "Germany_case",
         "type": "scatter",
         "x": [
          1,
          2,
          3,
          4,
          5,
          6,
          7,
          8,
          9,
          10,
          11,
          12,
          13,
          14,
          15,
          16,
          17,
          18,
          19,
          20,
          21,
          22,
          23,
          24,
          25,
          26,
          27,
          28,
          29,
          30,
          31,
          32,
          33,
          34,
          35,
          36,
          37,
          38,
          39,
          40,
          41,
          42,
          43,
          44,
          45,
          46,
          47,
          48,
          49,
          50,
          51,
          52,
          53,
          54,
          55,
          56,
          57,
          58,
          59,
          60,
          61,
          62,
          63,
          64,
          65
         ],
         "y": [
          21,
          26,
          53,
          66,
          117,
          150,
          188,
          240,
          349,
          534,
          684,
          847,
          1112,
          1296,
          1567,
          2369,
          3062,
          3795,
          4838,
          6012,
          7156,
          8198,
          10999,
          13957,
          16662,
          18610,
          22672,
          27436,
          31554,
          36508,
          42288,
          48582,
          52547,
          57298,
          61913,
          67366,
          73522,
          79696,
          85778,
          91714,
          95391,
          99225,
          103228,
          108202,
          113525,
          117658,
          120479,
          123016,
          125098,
          127584,
          130450,
          133830,
          137439,
          139897,
          141672,
          143457,
          145694,
          148046,
          150383,
          152438,
          154175,
          155193,
          156337,
          157641,
          159119
         ]
        },
        {
         "marker": {
          "size": 8
         },
         "mode": "markers",
         "name": "India_case",
         "type": "scatter",
         "x": [
          1,
          2,
          3,
          4,
          5,
          6,
          7,
          8,
          9,
          10,
          11,
          12,
          13,
          14,
          15,
          16,
          17,
          18,
          19,
          20,
          21,
          22,
          23,
          24,
          25,
          26,
          27,
          28,
          29,
          30,
          31,
          32,
          33,
          34,
          35,
          36,
          37,
          38,
          39,
          40,
          41,
          42,
          43,
          44,
          45,
          46,
          47,
          48,
          49,
          50,
          51,
          52,
          53,
          54,
          55,
          56,
          57,
          58,
          59,
          60,
          61,
          62,
          63,
          64,
          65
         ],
         "y": [
          3,
          3,
          3,
          3,
          3,
          5,
          5,
          28,
          30,
          31,
          34,
          39,
          43,
          56,
          62,
          73,
          82,
          102,
          113,
          119,
          142,
          156,
          194,
          244,
          330,
          396,
          499,
          536,
          657,
          727,
          887,
          987,
          1024,
          1251,
          1397,
          1998,
          2543,
          2567,
          3082,
          3588,
          4778,
          5311,
          5916,
          6725,
          7598,
          8446,
          9205,
          10453,
          11487,
          12322,
          13430,
          14352,
          15722,
          17615,
          18539,
          20080,
          21370,
          23077,
          24530,
          26283,
          27890,
          29451,
          31324,
          33062,
          34863
         ]
        },
        {
         "marker": {
          "size": 8
         },
         "mode": "markers",
         "name": "US_case",
         "type": "scatter",
         "x": [
          1,
          2,
          3,
          4,
          5,
          6,
          7,
          8,
          9,
          10,
          11,
          12,
          13,
          14,
          15,
          16,
          17,
          18,
          19,
          20,
          21,
          22,
          23,
          24,
          25,
          26,
          27,
          28,
          29,
          30,
          31,
          32,
          33,
          34,
          35,
          36,
          37,
          38,
          39,
          40,
          41,
          42,
          43,
          44,
          45,
          46,
          47,
          48,
          49,
          50,
          51,
          52,
          53,
          54,
          55,
          56,
          57,
          58,
          59,
          60,
          61,
          62,
          63,
          64,
          65
         ],
         "y": [
          16,
          17,
          17,
          25,
          32,
          55,
          74,
          107,
          184,
          237,
          403,
          519,
          594,
          782,
          1147,
          1586,
          2219,
          2978,
          3212,
          4679,
          6512,
          9169,
          13663,
          20030,
          26025,
          34944,
          46096,
          56714,
          68841,
          86662,
          105253,
          127417,
          143544,
          165698,
          192079,
          223254,
          255530,
          287931,
          319776,
          349016,
          380798,
          410834,
          441897,
          477507,
          511790,
          540714,
          567022,
          594165,
          622493,
          648390,
          678028,
          711135,
          738464,
          763886,
          793970,
          820045,
          849926,
          881891,
          913856,
          944770,
          970741,
          995391,
          1019964,
          1046816,
          1076518
         ]
        },
        {
         "mode": "lines",
         "name": "Germany_fit",
         "type": "scatter",
         "x": [
          1,
          2,
          3,
          4,
          5,
          6,
          7,
          8,
          9,
          10,
          11,
          12,
          13,
          14,
          15,
          16,
          17,
          18,
          19,
          20,
          21,
          22,
          23,
          24,
          25,
          26,
          27,
          28,
          29,
          30,
          31,
          32,
          33,
          34,
          35,
          36,
          37,
          38,
          39,
          40,
          41,
          42,
          43,
          44,
          45,
          46,
          47,
          48,
          49,
          50,
          51,
          52,
          53,
          54,
          55,
          56,
          57,
          58,
          59,
          60,
          61,
          62,
          63,
          64,
          65
         ],
         "y": [
          21,
          25.433344264502097,
          30.80253689842071,
          37.305090241182896,
          45.18018447409939,
          54.71744900617141,
          66.26759149481744,
          80.25525961743416,
          97.19460466017813,
          117.70810664893301,
          142.54934186665153,
          172.63050913263896,
          209.05569627240422,
          253.1610655844619,
          306.5633735606967,
          371.2185094583799,
          449.4920671539803,
          544.2443385651383,
          658.9325523729832,
          797.7336753508014,
          965.6916429341735,
          1168.8934872439331,
          1414.6794659590935,
          1711.8929036586283,
          2071.1759930015182,
          2505.3182117802407,
          3029.6639926131484,
          3662.5857604878347,
          4426.026932583688,
          5346.1165178540805,
          6453.851781047767,
          7785.8370477358585,
          9385.053770473916,
          11301.617722087432,
          13593.451766558159,
          16326.764075127274,
          19576.17105927467,
          23424.238908207677,
          27960.140098005704,
          33277.03615159176,
          39467.719642094875,
          46618.00231649042,
          54797.36490891763,
          64046.54664564908,
          74362.12484625386,
          85678.78579202006,
          97850.94661828606,
          110636.58394449035,
          123687.32640155547,
          136549.62272121236,
          148681.5190973408,
          159487.7094439919,
          168371.88039255308,
          174800.5587372135,
          178368.08823200114,
          178849.920085563,
          176232.52019293685,
          170713.17763621703,
          162670.14039163216,
          152610.46754705367,
          141107.23714879056,
          128738.29717268163,
          116036.05097894471,
          103453.38461607121,
          91346.4801307511
         ]
        },
        {
         "mode": "lines",
         "name": "India_fit",
         "type": "scatter",
         "x": [
          1,
          2,
          3,
          4,
          5,
          6,
          7,
          8,
          9,
          10,
          11,
          12,
          13,
          14,
          15,
          16,
          17,
          18,
          19,
          20,
          21,
          22,
          23,
          24,
          25,
          26,
          27,
          28,
          29,
          30,
          31,
          32,
          33,
          34,
          35,
          36,
          37,
          38,
          39,
          40,
          41,
          42,
          43,
          44,
          45,
          46,
          47,
          48,
          49,
          50,
          51,
          52,
          53,
          54,
          55,
          56,
          57,
          58,
          59,
          60,
          61,
          62,
          63,
          64,
          65
         ],
         "y": [
          3,
          3.555477842846997,
          4.213800633042175,
          4.994006988258295,
          5.91865877321637,
          7.014492724502706,
          8.313192282615237,
          9.852301932988059,
          11.67631000417469,
          13.837931442971444,
          16.399626268858903,
          19.435397657129855,
          23.032920258826177,
          27.296058994205424,
          32.34784884721499,
          38.334019526081505,
          45.427162323709894,
          53.83165431245555,
          63.78947432796167,
          75.58706768004551,
          89.5634425582944,
          106.11971027362083,
          125.7303144854922,
          148.9562310756014,
          176.46045961998655,
          209.02617205827,
          247.57792204889884,
          293.2063663756608,
          347.19698366915463,
          411.06330053970294,
          486.5851430544997,
          575.8524037602807,
          681.3147387107251,
          805.8374580211339,
          952.7636125877915,
          1125.9818667876734,
          1329.9991073305844,
          1570.0158397610508,
          1852.0010769568944,
          2182.761640028596,
          2569.9983318697946,
          3022.338228831926,
          3549.3282946128843,
          4161.370539917698,
          4869.573262876868,
          5685.48680816648,
          6620.686666828137,
          7686.162999981739,
          8891.476101500984,
          10243.645148578136,
          11745.756905899265,
          13395.316340083187,
          15182.415965018652,
          17087.875806544263,
          19081.595717076954,
          21121.451653865195,
          23153.13158883454,
          25111.308950868395,
          26922.455553698976,
          28509.375034120494,
          29797.215965645413,
          30720.329148181187,
          31229.015588491762,
          31295.042776634564,
          30914.916768236028
         ]
        },
        {
         "mode": "lines",
         "name": "US_fit",
         "type": "scatter",
         "x": [
          1,
          2,
          3,
          4,
          5,
          6,
          7,
          8,
          9,
          10,
          11,
          12,
          13,
          14,
          15,
          16,
          17,
          18,
          19,
          20,
          21,
          22,
          23,
          24,
          25,
          26,
          27,
          28,
          29,
          30,
          31,
          32,
          33,
          34,
          35,
          36,
          37,
          38,
          39,
          40,
          41,
          42,
          43,
          44,
          45,
          46,
          47,
          48,
          49,
          50,
          51,
          52,
          53,
          54,
          55,
          56,
          57,
          58,
          59,
          60,
          61,
          62,
          63,
          64,
          65
         ],
         "y": [
          16,
          19.895340673164362,
          24.739025149730676,
          30.761927323178547,
          38.25112394941681,
          47.563574200452784,
          59.143129201898574,
          73.54167803660795,
          91.44543925521893,
          113.70764626166978,
          141.3891792134242,
          175.80907570365494,
          218.60731160529912,
          271.8228316013143,
          337.99051684692927,
          420.26167105491743,
          522.553702815653,
          649.7360300948575,
          807.860919710695,
          1004.4500057498069,
          1248.8497764615847,
          1552.6723810361673,
          1930.341855619191,
          2399.7704261746,
          2983.1949294133697,
          3708.209932221573,
          4609.041623766132,
          5728.115314667661,
          7117.979078512677,
          8843.656647939804,
          10985.512844312949,
          13642.724485426475,
          16937.455102373755,
          21019.83056923964,
          26073.798158668018,
          32323.915085675453,
          40043.04030158841,
          49560.775906964074,
          61272.29401298392,
          75646.85547723083,
          93234.83349723436,
          114671.34696691505,
          140673.65143571334,
          172028.21682482274,
          209562.03431956866,
          254091.3798461191,
          306340.55106061447,
          366823.8933641703,
          435688.0913054704,
          512519.74849098513,
          596136.9436638303,
          684402.0686799838,
          774113.0155612369,
          861041.9381832484,
          940183.2406751553,
          1006234.6106653684,
          1054267.3865003916,
          1080463.9697200977,
          1082746.2659227187,
          1061123.5871970442,
          1017662.0284440285,
          956091.3554726633,
          881170.2773566302,
          797982.154832416,
          711318.8220025087
         ]
        }
       ],
       "layout": {
        "height": 800,
        "template": {
         "data": {
          "bar": [
           {
            "error_x": {
             "color": "#2a3f5f"
            },
            "error_y": {
             "color": "#2a3f5f"
            },
            "marker": {
             "line": {
              "color": "#E5ECF6",
              "width": 0.5
             },
             "pattern": {
              "fillmode": "overlay",
              "size": 10,
              "solidity": 0.2
             }
            },
            "type": "bar"
           }
          ],
          "barpolar": [
           {
            "marker": {
             "line": {
              "color": "#E5ECF6",
              "width": 0.5
             },
             "pattern": {
              "fillmode": "overlay",
              "size": 10,
              "solidity": 0.2
             }
            },
            "type": "barpolar"
           }
          ],
          "carpet": [
           {
            "aaxis": {
             "endlinecolor": "#2a3f5f",
             "gridcolor": "white",
             "linecolor": "white",
             "minorgridcolor": "white",
             "startlinecolor": "#2a3f5f"
            },
            "baxis": {
             "endlinecolor": "#2a3f5f",
             "gridcolor": "white",
             "linecolor": "white",
             "minorgridcolor": "white",
             "startlinecolor": "#2a3f5f"
            },
            "type": "carpet"
           }
          ],
          "choropleth": [
           {
            "colorbar": {
             "outlinewidth": 0,
             "ticks": ""
            },
            "type": "choropleth"
           }
          ],
          "contour": [
           {
            "colorbar": {
             "outlinewidth": 0,
             "ticks": ""
            },
            "colorscale": [
             [
              0,
              "#0d0887"
             ],
             [
              0.1111111111111111,
              "#46039f"
             ],
             [
              0.2222222222222222,
              "#7201a8"
             ],
             [
              0.3333333333333333,
              "#9c179e"
             ],
             [
              0.4444444444444444,
              "#bd3786"
             ],
             [
              0.5555555555555556,
              "#d8576b"
             ],
             [
              0.6666666666666666,
              "#ed7953"
             ],
             [
              0.7777777777777778,
              "#fb9f3a"
             ],
             [
              0.8888888888888888,
              "#fdca26"
             ],
             [
              1,
              "#f0f921"
             ]
            ],
            "type": "contour"
           }
          ],
          "contourcarpet": [
           {
            "colorbar": {
             "outlinewidth": 0,
             "ticks": ""
            },
            "type": "contourcarpet"
           }
          ],
          "heatmap": [
           {
            "colorbar": {
             "outlinewidth": 0,
             "ticks": ""
            },
            "colorscale": [
             [
              0,
              "#0d0887"
             ],
             [
              0.1111111111111111,
              "#46039f"
             ],
             [
              0.2222222222222222,
              "#7201a8"
             ],
             [
              0.3333333333333333,
              "#9c179e"
             ],
             [
              0.4444444444444444,
              "#bd3786"
             ],
             [
              0.5555555555555556,
              "#d8576b"
             ],
             [
              0.6666666666666666,
              "#ed7953"
             ],
             [
              0.7777777777777778,
              "#fb9f3a"
             ],
             [
              0.8888888888888888,
              "#fdca26"
             ],
             [
              1,
              "#f0f921"
             ]
            ],
            "type": "heatmap"
           }
          ],
          "heatmapgl": [
           {
            "colorbar": {
             "outlinewidth": 0,
             "ticks": ""
            },
            "colorscale": [
             [
              0,
              "#0d0887"
             ],
             [
              0.1111111111111111,
              "#46039f"
             ],
             [
              0.2222222222222222,
              "#7201a8"
             ],
             [
              0.3333333333333333,
              "#9c179e"
             ],
             [
              0.4444444444444444,
              "#bd3786"
             ],
             [
              0.5555555555555556,
              "#d8576b"
             ],
             [
              0.6666666666666666,
              "#ed7953"
             ],
             [
              0.7777777777777778,
              "#fb9f3a"
             ],
             [
              0.8888888888888888,
              "#fdca26"
             ],
             [
              1,
              "#f0f921"
             ]
            ],
            "type": "heatmapgl"
           }
          ],
          "histogram": [
           {
            "marker": {
             "pattern": {
              "fillmode": "overlay",
              "size": 10,
              "solidity": 0.2
             }
            },
            "type": "histogram"
           }
          ],
          "histogram2d": [
           {
            "colorbar": {
             "outlinewidth": 0,
             "ticks": ""
            },
            "colorscale": [
             [
              0,
              "#0d0887"
             ],
             [
              0.1111111111111111,
              "#46039f"
             ],
             [
              0.2222222222222222,
              "#7201a8"
             ],
             [
              0.3333333333333333,
              "#9c179e"
             ],
             [
              0.4444444444444444,
              "#bd3786"
             ],
             [
              0.5555555555555556,
              "#d8576b"
             ],
             [
              0.6666666666666666,
              "#ed7953"
             ],
             [
              0.7777777777777778,
              "#fb9f3a"
             ],
             [
              0.8888888888888888,
              "#fdca26"
             ],
             [
              1,
              "#f0f921"
             ]
            ],
            "type": "histogram2d"
           }
          ],
          "histogram2dcontour": [
           {
            "colorbar": {
             "outlinewidth": 0,
             "ticks": ""
            },
            "colorscale": [
             [
              0,
              "#0d0887"
             ],
             [
              0.1111111111111111,
              "#46039f"
             ],
             [
              0.2222222222222222,
              "#7201a8"
             ],
             [
              0.3333333333333333,
              "#9c179e"
             ],
             [
              0.4444444444444444,
              "#bd3786"
             ],
             [
              0.5555555555555556,
              "#d8576b"
             ],
             [
              0.6666666666666666,
              "#ed7953"
             ],
             [
              0.7777777777777778,
              "#fb9f3a"
             ],
             [
              0.8888888888888888,
              "#fdca26"
             ],
             [
              1,
              "#f0f921"
             ]
            ],
            "type": "histogram2dcontour"
           }
          ],
          "mesh3d": [
           {
            "colorbar": {
             "outlinewidth": 0,
             "ticks": ""
            },
            "type": "mesh3d"
           }
          ],
          "parcoords": [
           {
            "line": {
             "colorbar": {
              "outlinewidth": 0,
              "ticks": ""
             }
            },
            "type": "parcoords"
           }
          ],
          "pie": [
           {
            "automargin": true,
            "type": "pie"
           }
          ],
          "scatter": [
           {
            "fillpattern": {
             "fillmode": "overlay",
             "size": 10,
             "solidity": 0.2
            },
            "type": "scatter"
           }
          ],
          "scatter3d": [
           {
            "line": {
             "colorbar": {
              "outlinewidth": 0,
              "ticks": ""
             }
            },
            "marker": {
             "colorbar": {
              "outlinewidth": 0,
              "ticks": ""
             }
            },
            "type": "scatter3d"
           }
          ],
          "scattercarpet": [
           {
            "marker": {
             "colorbar": {
              "outlinewidth": 0,
              "ticks": ""
             }
            },
            "type": "scattercarpet"
           }
          ],
          "scattergeo": [
           {
            "marker": {
             "colorbar": {
              "outlinewidth": 0,
              "ticks": ""
             }
            },
            "type": "scattergeo"
           }
          ],
          "scattergl": [
           {
            "marker": {
             "colorbar": {
              "outlinewidth": 0,
              "ticks": ""
             }
            },
            "type": "scattergl"
           }
          ],
          "scattermapbox": [
           {
            "marker": {
             "colorbar": {
              "outlinewidth": 0,
              "ticks": ""
             }
            },
            "type": "scattermapbox"
           }
          ],
          "scatterpolar": [
           {
            "marker": {
             "colorbar": {
              "outlinewidth": 0,
              "ticks": ""
             }
            },
            "type": "scatterpolar"
           }
          ],
          "scatterpolargl": [
           {
            "marker": {
             "colorbar": {
              "outlinewidth": 0,
              "ticks": ""
             }
            },
            "type": "scatterpolargl"
           }
          ],
          "scatterternary": [
           {
            "marker": {
             "colorbar": {
              "outlinewidth": 0,
              "ticks": ""
             }
            },
            "type": "scatterternary"
           }
          ],
          "surface": [
           {
            "colorbar": {
             "outlinewidth": 0,
             "ticks": ""
            },
            "colorscale": [
             [
              0,
              "#0d0887"
             ],
             [
              0.1111111111111111,
              "#46039f"
             ],
             [
              0.2222222222222222,
              "#7201a8"
             ],
             [
              0.3333333333333333,
              "#9c179e"
             ],
             [
              0.4444444444444444,
              "#bd3786"
             ],
             [
              0.5555555555555556,
              "#d8576b"
             ],
             [
              0.6666666666666666,
              "#ed7953"
             ],
             [
              0.7777777777777778,
              "#fb9f3a"
             ],
             [
              0.8888888888888888,
              "#fdca26"
             ],
             [
              1,
              "#f0f921"
             ]
            ],
            "type": "surface"
           }
          ],
          "table": [
           {
            "cells": {
             "fill": {
              "color": "#EBF0F8"
             },
             "line": {
              "color": "white"
             }
            },
            "header": {
             "fill": {
              "color": "#C8D4E3"
             },
             "line": {
              "color": "white"
             }
            },
            "type": "table"
           }
          ]
         },
         "layout": {
          "annotationdefaults": {
           "arrowcolor": "#2a3f5f",
           "arrowhead": 0,
           "arrowwidth": 1
          },
          "autotypenumbers": "strict",
          "coloraxis": {
           "colorbar": {
            "outlinewidth": 0,
            "ticks": ""
           }
          },
          "colorscale": {
           "diverging": [
            [
             0,
             "#8e0152"
            ],
            [
             0.1,
             "#c51b7d"
            ],
            [
             0.2,
             "#de77ae"
            ],
            [
             0.3,
             "#f1b6da"
            ],
            [
             0.4,
             "#fde0ef"
            ],
            [
             0.5,
             "#f7f7f7"
            ],
            [
             0.6,
             "#e6f5d0"
            ],
            [
             0.7,
             "#b8e186"
            ],
            [
             0.8,
             "#7fbc41"
            ],
            [
             0.9,
             "#4d9221"
            ],
            [
             1,
             "#276419"
            ]
           ],
           "sequential": [
            [
             0,
             "#0d0887"
            ],
            [
             0.1111111111111111,
             "#46039f"
            ],
            [
             0.2222222222222222,
             "#7201a8"
            ],
            [
             0.3333333333333333,
             "#9c179e"
            ],
            [
             0.4444444444444444,
             "#bd3786"
            ],
            [
             0.5555555555555556,
             "#d8576b"
            ],
            [
             0.6666666666666666,
             "#ed7953"
            ],
            [
             0.7777777777777778,
             "#fb9f3a"
            ],
            [
             0.8888888888888888,
             "#fdca26"
            ],
            [
             1,
             "#f0f921"
            ]
           ],
           "sequentialminus": [
            [
             0,
             "#0d0887"
            ],
            [
             0.1111111111111111,
             "#46039f"
            ],
            [
             0.2222222222222222,
             "#7201a8"
            ],
            [
             0.3333333333333333,
             "#9c179e"
            ],
            [
             0.4444444444444444,
             "#bd3786"
            ],
            [
             0.5555555555555556,
             "#d8576b"
            ],
            [
             0.6666666666666666,
             "#ed7953"
            ],
            [
             0.7777777777777778,
             "#fb9f3a"
            ],
            [
             0.8888888888888888,
             "#fdca26"
            ],
            [
             1,
             "#f0f921"
            ]
           ]
          },
          "colorway": [
           "#636efa",
           "#EF553B",
           "#00cc96",
           "#ab63fa",
           "#FFA15A",
           "#19d3f3",
           "#FF6692",
           "#B6E880",
           "#FF97FF",
           "#FECB52"
          ],
          "font": {
           "color": "#2a3f5f"
          },
          "geo": {
           "bgcolor": "white",
           "lakecolor": "white",
           "landcolor": "#E5ECF6",
           "showlakes": true,
           "showland": true,
           "subunitcolor": "white"
          },
          "hoverlabel": {
           "align": "left"
          },
          "hovermode": "closest",
          "mapbox": {
           "style": "light"
          },
          "paper_bgcolor": "white",
          "plot_bgcolor": "#E5ECF6",
          "polar": {
           "angularaxis": {
            "gridcolor": "white",
            "linecolor": "white",
            "ticks": ""
           },
           "bgcolor": "#E5ECF6",
           "radialaxis": {
            "gridcolor": "white",
            "linecolor": "white",
            "ticks": ""
           }
          },
          "scene": {
           "xaxis": {
            "backgroundcolor": "#E5ECF6",
            "gridcolor": "white",
            "gridwidth": 2,
            "linecolor": "white",
            "showbackground": true,
            "ticks": "",
            "zerolinecolor": "white"
           },
           "yaxis": {
            "backgroundcolor": "#E5ECF6",
            "gridcolor": "white",
            "gridwidth": 2,
            "linecolor": "white",
            "showbackground": true,
            "ticks": "",
            "zerolinecolor": "white"
           },
           "zaxis": {
            "backgroundcolor": "#E5ECF6",
            "gridcolor": "white",
            "gridwidth": 2,
            "linecolor": "white",
            "showbackground": true,
            "ticks": "",
            "zerolinecolor": "white"
           }
          },
          "shapedefaults": {
           "line": {
            "color": "#2a3f5f"
           }
          },
          "ternary": {
           "aaxis": {
            "gridcolor": "white",
            "linecolor": "white",
            "ticks": ""
           },
           "baxis": {
            "gridcolor": "white",
            "linecolor": "white",
            "ticks": ""
           },
           "bgcolor": "#E5ECF6",
           "caxis": {
            "gridcolor": "white",
            "linecolor": "white",
            "ticks": ""
           }
          },
          "title": {
           "x": 0.05
          },
          "xaxis": {
           "automargin": true,
           "gridcolor": "white",
           "linecolor": "white",
           "ticks": "",
           "title": {
            "standoff": 15
           },
           "zerolinecolor": "white",
           "zerolinewidth": 2
          },
          "yaxis": {
           "automargin": true,
           "gridcolor": "white",
           "linecolor": "white",
           "ticks": "",
           "title": {
            "standoff": 15
           },
           "zerolinecolor": "white",
           "zerolinewidth": 2
          }
         }
        },
        "width": 1000,
        "xaxis": {
         "title": {
          "text": "Days"
         }
        },
        "yaxis": {
         "title": {
          "text": "Covid infections"
         },
         "type": "log"
        }
       }
      },
      "text/html": [
       "<div>                            <div id=\"3b16cda8-cbbc-491f-b8ba-fd7856e0bef3\" class=\"plotly-graph-div\" style=\"height:800px; width:1000px;\"></div>            <script type=\"text/javascript\">                require([\"plotly\"], function(Plotly) {                    window.PLOTLYENV=window.PLOTLYENV || {};                                    if (document.getElementById(\"3b16cda8-cbbc-491f-b8ba-fd7856e0bef3\")) {                    Plotly.newPlot(                        \"3b16cda8-cbbc-491f-b8ba-fd7856e0bef3\",                        [{\"marker\":{\"size\":8},\"mode\":\"markers\",\"name\":\"Germany_case\",\"x\":[1.0,2.0,3.0,4.0,5.0,6.0,7.0,8.0,9.0,10.0,11.0,12.0,13.0,14.0,15.0,16.0,17.0,18.0,19.0,20.0,21.0,22.0,23.0,24.0,25.0,26.0,27.0,28.0,29.0,30.0,31.0,32.0,33.0,34.0,35.0,36.0,37.0,38.0,39.0,40.0,41.0,42.0,43.0,44.0,45.0,46.0,47.0,48.0,49.0,50.0,51.0,52.0,53.0,54.0,55.0,56.0,57.0,58.0,59.0,60.0,61.0,62.0,63.0,64.0,65.0],\"y\":[21,26,53,66,117,150,188,240,349,534,684,847,1112,1296,1567,2369,3062,3795,4838,6012,7156,8198,10999,13957,16662,18610,22672,27436,31554,36508,42288,48582,52547,57298,61913,67366,73522,79696,85778,91714,95391,99225,103228,108202,113525,117658,120479,123016,125098,127584,130450,133830,137439,139897,141672,143457,145694,148046,150383,152438,154175,155193,156337,157641,159119],\"type\":\"scatter\"},{\"marker\":{\"size\":8},\"mode\":\"markers\",\"name\":\"India_case\",\"x\":[1.0,2.0,3.0,4.0,5.0,6.0,7.0,8.0,9.0,10.0,11.0,12.0,13.0,14.0,15.0,16.0,17.0,18.0,19.0,20.0,21.0,22.0,23.0,24.0,25.0,26.0,27.0,28.0,29.0,30.0,31.0,32.0,33.0,34.0,35.0,36.0,37.0,38.0,39.0,40.0,41.0,42.0,43.0,44.0,45.0,46.0,47.0,48.0,49.0,50.0,51.0,52.0,53.0,54.0,55.0,56.0,57.0,58.0,59.0,60.0,61.0,62.0,63.0,64.0,65.0],\"y\":[3,3,3,3,3,5,5,28,30,31,34,39,43,56,62,73,82,102,113,119,142,156,194,244,330,396,499,536,657,727,887,987,1024,1251,1397,1998,2543,2567,3082,3588,4778,5311,5916,6725,7598,8446,9205,10453,11487,12322,13430,14352,15722,17615,18539,20080,21370,23077,24530,26283,27890,29451,31324,33062,34863],\"type\":\"scatter\"},{\"marker\":{\"size\":8},\"mode\":\"markers\",\"name\":\"US_case\",\"x\":[1.0,2.0,3.0,4.0,5.0,6.0,7.0,8.0,9.0,10.0,11.0,12.0,13.0,14.0,15.0,16.0,17.0,18.0,19.0,20.0,21.0,22.0,23.0,24.0,25.0,26.0,27.0,28.0,29.0,30.0,31.0,32.0,33.0,34.0,35.0,36.0,37.0,38.0,39.0,40.0,41.0,42.0,43.0,44.0,45.0,46.0,47.0,48.0,49.0,50.0,51.0,52.0,53.0,54.0,55.0,56.0,57.0,58.0,59.0,60.0,61.0,62.0,63.0,64.0,65.0],\"y\":[16,17,17,25,32,55,74,107,184,237,403,519,594,782,1147,1586,2219,2978,3212,4679,6512,9169,13663,20030,26025,34944,46096,56714,68841,86662,105253,127417,143544,165698,192079,223254,255530,287931,319776,349016,380798,410834,441897,477507,511790,540714,567022,594165,622493,648390,678028,711135,738464,763886,793970,820045,849926,881891,913856,944770,970741,995391,1019964,1046816,1076518],\"type\":\"scatter\"},{\"mode\":\"lines\",\"name\":\"Germany_fit\",\"x\":[1.0,2.0,3.0,4.0,5.0,6.0,7.0,8.0,9.0,10.0,11.0,12.0,13.0,14.0,15.0,16.0,17.0,18.0,19.0,20.0,21.0,22.0,23.0,24.0,25.0,26.0,27.0,28.0,29.0,30.0,31.0,32.0,33.0,34.0,35.0,36.0,37.0,38.0,39.0,40.0,41.0,42.0,43.0,44.0,45.0,46.0,47.0,48.0,49.0,50.0,51.0,52.0,53.0,54.0,55.0,56.0,57.0,58.0,59.0,60.0,61.0,62.0,63.0,64.0,65.0],\"y\":[21.0,25.433344264502097,30.80253689842071,37.305090241182896,45.18018447409939,54.71744900617141,66.26759149481744,80.25525961743416,97.19460466017813,117.70810664893301,142.54934186665153,172.63050913263896,209.05569627240422,253.1610655844619,306.5633735606967,371.2185094583799,449.4920671539803,544.2443385651383,658.9325523729832,797.7336753508014,965.6916429341735,1168.8934872439331,1414.6794659590935,1711.8929036586283,2071.1759930015182,2505.3182117802407,3029.6639926131484,3662.5857604878347,4426.026932583688,5346.1165178540805,6453.851781047767,7785.8370477358585,9385.053770473916,11301.617722087432,13593.451766558159,16326.764075127274,19576.17105927467,23424.238908207677,27960.140098005704,33277.03615159176,39467.719642094875,46618.00231649042,54797.36490891763,64046.54664564908,74362.12484625386,85678.78579202006,97850.94661828606,110636.58394449035,123687.32640155547,136549.62272121236,148681.5190973408,159487.7094439919,168371.88039255308,174800.5587372135,178368.08823200114,178849.920085563,176232.52019293685,170713.17763621703,162670.14039163216,152610.46754705367,141107.23714879056,128738.29717268163,116036.05097894471,103453.38461607121,91346.4801307511],\"type\":\"scatter\"},{\"mode\":\"lines\",\"name\":\"India_fit\",\"x\":[1.0,2.0,3.0,4.0,5.0,6.0,7.0,8.0,9.0,10.0,11.0,12.0,13.0,14.0,15.0,16.0,17.0,18.0,19.0,20.0,21.0,22.0,23.0,24.0,25.0,26.0,27.0,28.0,29.0,30.0,31.0,32.0,33.0,34.0,35.0,36.0,37.0,38.0,39.0,40.0,41.0,42.0,43.0,44.0,45.0,46.0,47.0,48.0,49.0,50.0,51.0,52.0,53.0,54.0,55.0,56.0,57.0,58.0,59.0,60.0,61.0,62.0,63.0,64.0,65.0],\"y\":[3.0,3.555477842846997,4.213800633042175,4.994006988258295,5.91865877321637,7.014492724502706,8.313192282615237,9.852301932988059,11.67631000417469,13.837931442971444,16.399626268858903,19.435397657129855,23.032920258826177,27.296058994205424,32.34784884721499,38.334019526081505,45.427162323709894,53.83165431245555,63.78947432796167,75.58706768004551,89.5634425582944,106.11971027362083,125.7303144854922,148.9562310756014,176.46045961998655,209.02617205827,247.57792204889884,293.2063663756608,347.19698366915463,411.06330053970294,486.5851430544997,575.8524037602807,681.3147387107251,805.8374580211339,952.7636125877915,1125.9818667876734,1329.9991073305844,1570.0158397610508,1852.0010769568944,2182.761640028596,2569.9983318697946,3022.338228831926,3549.3282946128843,4161.370539917698,4869.573262876868,5685.48680816648,6620.686666828137,7686.162999981739,8891.476101500984,10243.645148578136,11745.756905899265,13395.316340083187,15182.415965018652,17087.875806544263,19081.595717076954,21121.451653865195,23153.13158883454,25111.308950868395,26922.455553698976,28509.375034120494,29797.215965645413,30720.329148181187,31229.015588491762,31295.042776634564,30914.916768236028],\"type\":\"scatter\"},{\"mode\":\"lines\",\"name\":\"US_fit\",\"x\":[1.0,2.0,3.0,4.0,5.0,6.0,7.0,8.0,9.0,10.0,11.0,12.0,13.0,14.0,15.0,16.0,17.0,18.0,19.0,20.0,21.0,22.0,23.0,24.0,25.0,26.0,27.0,28.0,29.0,30.0,31.0,32.0,33.0,34.0,35.0,36.0,37.0,38.0,39.0,40.0,41.0,42.0,43.0,44.0,45.0,46.0,47.0,48.0,49.0,50.0,51.0,52.0,53.0,54.0,55.0,56.0,57.0,58.0,59.0,60.0,61.0,62.0,63.0,64.0,65.0],\"y\":[16.0,19.895340673164362,24.739025149730676,30.761927323178547,38.25112394941681,47.563574200452784,59.143129201898574,73.54167803660795,91.44543925521893,113.70764626166978,141.3891792134242,175.80907570365494,218.60731160529912,271.8228316013143,337.99051684692927,420.26167105491743,522.553702815653,649.7360300948575,807.860919710695,1004.4500057498069,1248.8497764615847,1552.6723810361673,1930.341855619191,2399.7704261746,2983.1949294133697,3708.209932221573,4609.041623766132,5728.115314667661,7117.979078512677,8843.656647939804,10985.512844312949,13642.724485426475,16937.455102373755,21019.83056923964,26073.798158668018,32323.915085675453,40043.04030158841,49560.775906964074,61272.29401298392,75646.85547723083,93234.83349723436,114671.34696691505,140673.65143571334,172028.21682482274,209562.03431956866,254091.3798461191,306340.55106061447,366823.8933641703,435688.0913054704,512519.74849098513,596136.9436638303,684402.0686799838,774113.0155612369,861041.9381832484,940183.2406751553,1006234.6106653684,1054267.3865003916,1080463.9697200977,1082746.2659227187,1061123.5871970442,1017662.0284440285,956091.3554726633,881170.2773566302,797982.154832416,711318.8220025087],\"type\":\"scatter\"}],                        {\"template\":{\"data\":{\"histogram2dcontour\":[{\"type\":\"histogram2dcontour\",\"colorbar\":{\"outlinewidth\":0,\"ticks\":\"\"},\"colorscale\":[[0.0,\"#0d0887\"],[0.1111111111111111,\"#46039f\"],[0.2222222222222222,\"#7201a8\"],[0.3333333333333333,\"#9c179e\"],[0.4444444444444444,\"#bd3786\"],[0.5555555555555556,\"#d8576b\"],[0.6666666666666666,\"#ed7953\"],[0.7777777777777778,\"#fb9f3a\"],[0.8888888888888888,\"#fdca26\"],[1.0,\"#f0f921\"]]}],\"choropleth\":[{\"type\":\"choropleth\",\"colorbar\":{\"outlinewidth\":0,\"ticks\":\"\"}}],\"histogram2d\":[{\"type\":\"histogram2d\",\"colorbar\":{\"outlinewidth\":0,\"ticks\":\"\"},\"colorscale\":[[0.0,\"#0d0887\"],[0.1111111111111111,\"#46039f\"],[0.2222222222222222,\"#7201a8\"],[0.3333333333333333,\"#9c179e\"],[0.4444444444444444,\"#bd3786\"],[0.5555555555555556,\"#d8576b\"],[0.6666666666666666,\"#ed7953\"],[0.7777777777777778,\"#fb9f3a\"],[0.8888888888888888,\"#fdca26\"],[1.0,\"#f0f921\"]]}],\"heatmap\":[{\"type\":\"heatmap\",\"colorbar\":{\"outlinewidth\":0,\"ticks\":\"\"},\"colorscale\":[[0.0,\"#0d0887\"],[0.1111111111111111,\"#46039f\"],[0.2222222222222222,\"#7201a8\"],[0.3333333333333333,\"#9c179e\"],[0.4444444444444444,\"#bd3786\"],[0.5555555555555556,\"#d8576b\"],[0.6666666666666666,\"#ed7953\"],[0.7777777777777778,\"#fb9f3a\"],[0.8888888888888888,\"#fdca26\"],[1.0,\"#f0f921\"]]}],\"heatmapgl\":[{\"type\":\"heatmapgl\",\"colorbar\":{\"outlinewidth\":0,\"ticks\":\"\"},\"colorscale\":[[0.0,\"#0d0887\"],[0.1111111111111111,\"#46039f\"],[0.2222222222222222,\"#7201a8\"],[0.3333333333333333,\"#9c179e\"],[0.4444444444444444,\"#bd3786\"],[0.5555555555555556,\"#d8576b\"],[0.6666666666666666,\"#ed7953\"],[0.7777777777777778,\"#fb9f3a\"],[0.8888888888888888,\"#fdca26\"],[1.0,\"#f0f921\"]]}],\"contourcarpet\":[{\"type\":\"contourcarpet\",\"colorbar\":{\"outlinewidth\":0,\"ticks\":\"\"}}],\"contour\":[{\"type\":\"contour\",\"colorbar\":{\"outlinewidth\":0,\"ticks\":\"\"},\"colorscale\":[[0.0,\"#0d0887\"],[0.1111111111111111,\"#46039f\"],[0.2222222222222222,\"#7201a8\"],[0.3333333333333333,\"#9c179e\"],[0.4444444444444444,\"#bd3786\"],[0.5555555555555556,\"#d8576b\"],[0.6666666666666666,\"#ed7953\"],[0.7777777777777778,\"#fb9f3a\"],[0.8888888888888888,\"#fdca26\"],[1.0,\"#f0f921\"]]}],\"surface\":[{\"type\":\"surface\",\"colorbar\":{\"outlinewidth\":0,\"ticks\":\"\"},\"colorscale\":[[0.0,\"#0d0887\"],[0.1111111111111111,\"#46039f\"],[0.2222222222222222,\"#7201a8\"],[0.3333333333333333,\"#9c179e\"],[0.4444444444444444,\"#bd3786\"],[0.5555555555555556,\"#d8576b\"],[0.6666666666666666,\"#ed7953\"],[0.7777777777777778,\"#fb9f3a\"],[0.8888888888888888,\"#fdca26\"],[1.0,\"#f0f921\"]]}],\"mesh3d\":[{\"type\":\"mesh3d\",\"colorbar\":{\"outlinewidth\":0,\"ticks\":\"\"}}],\"scatter\":[{\"fillpattern\":{\"fillmode\":\"overlay\",\"size\":10,\"solidity\":0.2},\"type\":\"scatter\"}],\"parcoords\":[{\"type\":\"parcoords\",\"line\":{\"colorbar\":{\"outlinewidth\":0,\"ticks\":\"\"}}}],\"scatterpolargl\":[{\"type\":\"scatterpolargl\",\"marker\":{\"colorbar\":{\"outlinewidth\":0,\"ticks\":\"\"}}}],\"bar\":[{\"error_x\":{\"color\":\"#2a3f5f\"},\"error_y\":{\"color\":\"#2a3f5f\"},\"marker\":{\"line\":{\"color\":\"#E5ECF6\",\"width\":0.5},\"pattern\":{\"fillmode\":\"overlay\",\"size\":10,\"solidity\":0.2}},\"type\":\"bar\"}],\"scattergeo\":[{\"type\":\"scattergeo\",\"marker\":{\"colorbar\":{\"outlinewidth\":0,\"ticks\":\"\"}}}],\"scatterpolar\":[{\"type\":\"scatterpolar\",\"marker\":{\"colorbar\":{\"outlinewidth\":0,\"ticks\":\"\"}}}],\"histogram\":[{\"marker\":{\"pattern\":{\"fillmode\":\"overlay\",\"size\":10,\"solidity\":0.2}},\"type\":\"histogram\"}],\"scattergl\":[{\"type\":\"scattergl\",\"marker\":{\"colorbar\":{\"outlinewidth\":0,\"ticks\":\"\"}}}],\"scatter3d\":[{\"type\":\"scatter3d\",\"line\":{\"colorbar\":{\"outlinewidth\":0,\"ticks\":\"\"}},\"marker\":{\"colorbar\":{\"outlinewidth\":0,\"ticks\":\"\"}}}],\"scattermapbox\":[{\"type\":\"scattermapbox\",\"marker\":{\"colorbar\":{\"outlinewidth\":0,\"ticks\":\"\"}}}],\"scatterternary\":[{\"type\":\"scatterternary\",\"marker\":{\"colorbar\":{\"outlinewidth\":0,\"ticks\":\"\"}}}],\"scattercarpet\":[{\"type\":\"scattercarpet\",\"marker\":{\"colorbar\":{\"outlinewidth\":0,\"ticks\":\"\"}}}],\"carpet\":[{\"aaxis\":{\"endlinecolor\":\"#2a3f5f\",\"gridcolor\":\"white\",\"linecolor\":\"white\",\"minorgridcolor\":\"white\",\"startlinecolor\":\"#2a3f5f\"},\"baxis\":{\"endlinecolor\":\"#2a3f5f\",\"gridcolor\":\"white\",\"linecolor\":\"white\",\"minorgridcolor\":\"white\",\"startlinecolor\":\"#2a3f5f\"},\"type\":\"carpet\"}],\"table\":[{\"cells\":{\"fill\":{\"color\":\"#EBF0F8\"},\"line\":{\"color\":\"white\"}},\"header\":{\"fill\":{\"color\":\"#C8D4E3\"},\"line\":{\"color\":\"white\"}},\"type\":\"table\"}],\"barpolar\":[{\"marker\":{\"line\":{\"color\":\"#E5ECF6\",\"width\":0.5},\"pattern\":{\"fillmode\":\"overlay\",\"size\":10,\"solidity\":0.2}},\"type\":\"barpolar\"}],\"pie\":[{\"automargin\":true,\"type\":\"pie\"}]},\"layout\":{\"autotypenumbers\":\"strict\",\"colorway\":[\"#636efa\",\"#EF553B\",\"#00cc96\",\"#ab63fa\",\"#FFA15A\",\"#19d3f3\",\"#FF6692\",\"#B6E880\",\"#FF97FF\",\"#FECB52\"],\"font\":{\"color\":\"#2a3f5f\"},\"hovermode\":\"closest\",\"hoverlabel\":{\"align\":\"left\"},\"paper_bgcolor\":\"white\",\"plot_bgcolor\":\"#E5ECF6\",\"polar\":{\"bgcolor\":\"#E5ECF6\",\"angularaxis\":{\"gridcolor\":\"white\",\"linecolor\":\"white\",\"ticks\":\"\"},\"radialaxis\":{\"gridcolor\":\"white\",\"linecolor\":\"white\",\"ticks\":\"\"}},\"ternary\":{\"bgcolor\":\"#E5ECF6\",\"aaxis\":{\"gridcolor\":\"white\",\"linecolor\":\"white\",\"ticks\":\"\"},\"baxis\":{\"gridcolor\":\"white\",\"linecolor\":\"white\",\"ticks\":\"\"},\"caxis\":{\"gridcolor\":\"white\",\"linecolor\":\"white\",\"ticks\":\"\"}},\"coloraxis\":{\"colorbar\":{\"outlinewidth\":0,\"ticks\":\"\"}},\"colorscale\":{\"sequential\":[[0.0,\"#0d0887\"],[0.1111111111111111,\"#46039f\"],[0.2222222222222222,\"#7201a8\"],[0.3333333333333333,\"#9c179e\"],[0.4444444444444444,\"#bd3786\"],[0.5555555555555556,\"#d8576b\"],[0.6666666666666666,\"#ed7953\"],[0.7777777777777778,\"#fb9f3a\"],[0.8888888888888888,\"#fdca26\"],[1.0,\"#f0f921\"]],\"sequentialminus\":[[0.0,\"#0d0887\"],[0.1111111111111111,\"#46039f\"],[0.2222222222222222,\"#7201a8\"],[0.3333333333333333,\"#9c179e\"],[0.4444444444444444,\"#bd3786\"],[0.5555555555555556,\"#d8576b\"],[0.6666666666666666,\"#ed7953\"],[0.7777777777777778,\"#fb9f3a\"],[0.8888888888888888,\"#fdca26\"],[1.0,\"#f0f921\"]],\"diverging\":[[0,\"#8e0152\"],[0.1,\"#c51b7d\"],[0.2,\"#de77ae\"],[0.3,\"#f1b6da\"],[0.4,\"#fde0ef\"],[0.5,\"#f7f7f7\"],[0.6,\"#e6f5d0\"],[0.7,\"#b8e186\"],[0.8,\"#7fbc41\"],[0.9,\"#4d9221\"],[1,\"#276419\"]]},\"xaxis\":{\"gridcolor\":\"white\",\"linecolor\":\"white\",\"ticks\":\"\",\"title\":{\"standoff\":15},\"zerolinecolor\":\"white\",\"automargin\":true,\"zerolinewidth\":2},\"yaxis\":{\"gridcolor\":\"white\",\"linecolor\":\"white\",\"ticks\":\"\",\"title\":{\"standoff\":15},\"zerolinecolor\":\"white\",\"automargin\":true,\"zerolinewidth\":2},\"scene\":{\"xaxis\":{\"backgroundcolor\":\"#E5ECF6\",\"gridcolor\":\"white\",\"linecolor\":\"white\",\"showbackground\":true,\"ticks\":\"\",\"zerolinecolor\":\"white\",\"gridwidth\":2},\"yaxis\":{\"backgroundcolor\":\"#E5ECF6\",\"gridcolor\":\"white\",\"linecolor\":\"white\",\"showbackground\":true,\"ticks\":\"\",\"zerolinecolor\":\"white\",\"gridwidth\":2},\"zaxis\":{\"backgroundcolor\":\"#E5ECF6\",\"gridcolor\":\"white\",\"linecolor\":\"white\",\"showbackground\":true,\"ticks\":\"\",\"zerolinecolor\":\"white\",\"gridwidth\":2}},\"shapedefaults\":{\"line\":{\"color\":\"#2a3f5f\"}},\"annotationdefaults\":{\"arrowcolor\":\"#2a3f5f\",\"arrowhead\":0,\"arrowwidth\":1},\"geo\":{\"bgcolor\":\"white\",\"landcolor\":\"#E5ECF6\",\"subunitcolor\":\"white\",\"showland\":true,\"showlakes\":true,\"lakecolor\":\"white\"},\"title\":{\"x\":0.05},\"mapbox\":{\"style\":\"light\"}}},\"width\":1000,\"height\":800,\"xaxis\":{\"title\":{\"text\":\"Days\"}},\"yaxis\":{\"title\":{\"text\":\"Covid infections\"},\"type\":\"log\"}},                        {\"responsive\": true}                    ).then(function(){\n",
       "                            \n",
       "var gd = document.getElementById('3b16cda8-cbbc-491f-b8ba-fd7856e0bef3');\n",
       "var x = new MutationObserver(function (mutations, observer) {{\n",
       "        var display = window.getComputedStyle(gd).display;\n",
       "        if (!display || display === 'none') {{\n",
       "            console.log([gd, 'removed!']);\n",
       "            Plotly.purge(gd);\n",
       "            observer.disconnect();\n",
       "        }}\n",
       "}});\n",
       "\n",
       "// Listen for the removal of the full notebook cells\n",
       "var notebookContainer = gd.closest('#notebook-container');\n",
       "if (notebookContainer) {{\n",
       "    x.observe(notebookContainer, {childList: true});\n",
       "}}\n",
       "\n",
       "// Listen for the clearing of the current output cell\n",
       "var outputEl = gd.closest('.output');\n",
       "if (outputEl) {{\n",
       "    x.observe(outputEl, {childList: true});\n",
       "}}\n",
       "\n",
       "                        })                };                });            </script>        </div>"
      ]
     },
     "metadata": {},
     "output_type": "display_data"
    }
   ],
   "source": [
    "fig=go.Figure()\n",
    "for each in country:\n",
    "    fig.add_trace(go.Scatter(x=df_plot.day,\n",
    "                             y=df_plot[each+'_case'],\n",
    "                             mode='markers',\n",
    "                             marker_size=8,\n",
    "                             name=each+'_case'\n",
    "                         ))\n",
    "for each in country:\n",
    "    fig.add_trace(go.Scatter(x=df_plot.day,\n",
    "                             y=df_plot[each+'_fit'],\n",
    "                             mode='lines',\n",
    "                             name=each+'_fit'\n",
    "                         ))\n",
    "\n",
    "fig.update_layout(\n",
    "        width=1000,\n",
    "        height=800,\n",
    "        xaxis_title=\"Days\",\n",
    "        yaxis_title=\"Covid infections\",\n",
    ")\n",
    "fig.update_yaxes(type=\"log\")\n",
    "fig.show()"
   ]
  },
  {
   "cell_type": "markdown",
   "id": "0f26b961",
   "metadata": {},
   "source": [
    "# Dash"
   ]
  },
  {
   "cell_type": "code",
   "execution_count": 114,
   "id": "2bebbed1",
   "metadata": {},
   "outputs": [
    {
     "name": "stdout",
     "output_type": "stream",
     "text": [
      "C:\\Users\\Mohit\\EDS_COVID_22\\notebooks\n",
      "Dash is running on http://127.0.0.1:8050/\n",
      "\n",
      "Dash is running on http://127.0.0.1:8050/\n",
      "\n",
      "Dash is running on http://127.0.0.1:8050/\n",
      "\n",
      "Dash is running on http://127.0.0.1:8050/\n",
      "\n",
      "Dash is running on http://127.0.0.1:8050/\n",
      "\n",
      "Dash is running on http://127.0.0.1:8050/\n",
      "\n",
      "Dash is running on http://127.0.0.1:8050/\n",
      "\n",
      "Dash is running on http://127.0.0.1:8050/\n",
      "\n",
      " * Serving Flask app '__main__' (lazy loading)\n",
      " * Environment: production\n",
      "\u001b[31m   WARNING: This is a development server. Do not use it in a production deployment.\u001b[0m\n",
      "\u001b[2m   Use a production WSGI server instead.\u001b[0m\n",
      " * Debug mode: on\n"
     ]
    }
   ],
   "source": [
    "import dash\n",
    "dash.__version__\n",
    "import dash_core_components as dcc\n",
    "import dash_html_components as html\n",
    "from dash.dependencies import Input, Output,State\n",
    "\n",
    "import os\n",
    "print(os.getcwd())\n",
    "\n",
    "fig = go.Figure()\n",
    "\n",
    "app = dash.Dash()\n",
    "app.layout = html.Div([\n",
    "\n",
    "    dcc.Markdown('''\n",
    "    #  Applied Data Science on COVID-19 data\n",
    "\n",
    "    Goal of the project is to demonstrate the SIR prediction model for three countries and the reproduction rate,\n",
    "    infection rate and recovery rate for the first few days of the pandemic\n",
    "\n",
    "    '''),\n",
    "\n",
    "    dcc.Markdown('''\n",
    "    ## Multi-Select Country for visualization\n",
    "    '''),\n",
    "    \n",
    "    dcc.Dropdown(\n",
    "        id='country_drop_down',\n",
    "        options=[ {'label': each,'value':each} for each in country],\n",
    "        value=['US', 'Germany','India'], # which are pre-selected\n",
    "        multi=True\n",
    "    ),\n",
    "\n",
    " \n",
    "\n",
    "    dcc.Graph(figure=fig, id='main_window_slope')\n",
    "])\n",
    "\n",
    "\n",
    "\n",
    "@app.callback(\n",
    "    Output('main_window_slope', 'figure'),\n",
    "    [Input('country_drop_down', 'value')])\n",
    "\n",
    "\n",
    "def update_figure(country):\n",
    "\n",
    "\n",
    "    traces = []\n",
    "    for each in country:\n",
    "        traces.append(dict(x=df_plot.day,\n",
    "                                y=df_plot[each+'_case'],\n",
    "                                mode='markers',\n",
    "                                marker_size=8,\n",
    "                                name=each+'_case'\n",
    "                       )\n",
    "                )\n",
    "    \n",
    "    for each in country:\n",
    "        traces.append(dict(x=df_plot.day,\n",
    "                                y=df_plot[each+'_fit'],\n",
    "                                mode='lines',\n",
    "                                name=each+'_fit'\n",
    "                       )\n",
    "                )\n",
    "\n",
    "    return {\n",
    "            'data': traces,\n",
    "            'layout': dict (\n",
    "                width=1280,\n",
    "                height=720,\n",
    "\n",
    "                xaxis={\n",
    "                        'tickangle':-45,\n",
    "                        'nticks':20,\n",
    "                        'tickfont':dict(size=14,color=\"#7f7f7f\"),\n",
    "                      },\n",
    "\n",
    "                yaxis={'type':\"log\",\n",
    "                       'range':'[1.1,5.5]'\n",
    "                      }\n",
    "        )\n",
    "    }\n",
    "\n",
    "if __name__ == '__main__':\n",
    "\n",
    "    app.run_server(debug=True, use_reloader=False)"
   ]
  },
  {
   "cell_type": "code",
   "execution_count": null,
   "id": "0c347cc0",
   "metadata": {},
   "outputs": [],
   "source": []
  },
  {
   "cell_type": "code",
   "execution_count": null,
   "id": "df5a3c05",
   "metadata": {},
   "outputs": [],
   "source": []
  },
  {
   "cell_type": "code",
   "execution_count": null,
   "id": "7090b0b0",
   "metadata": {},
   "outputs": [],
   "source": []
  },
  {
   "cell_type": "code",
   "execution_count": null,
   "id": "17d40490",
   "metadata": {},
   "outputs": [],
   "source": []
  }
 ],
 "metadata": {
  "kernelspec": {
   "display_name": "Python 3 (ipykernel)",
   "language": "python",
   "name": "python3"
  },
  "language_info": {
   "codemirror_mode": {
    "name": "ipython",
    "version": 3
   },
   "file_extension": ".py",
   "mimetype": "text/x-python",
   "name": "python",
   "nbconvert_exporter": "python",
   "pygments_lexer": "ipython3",
   "version": "3.9.12"
  }
 },
 "nbformat": 4,
 "nbformat_minor": 5
}
